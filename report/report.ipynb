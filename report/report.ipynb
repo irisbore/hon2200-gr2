{
 "cells": [
  {
   "cell_type": "markdown",
   "id": "angry-dragon",
   "metadata": {},
   "source": [
    "# Lese inn og forstå dataene\n",
    "\n",
    "Vi bruker Pandas til å lese inn dataene, og lager oss en `DataFrame` med kun de kolonnene vi er interessert i å se på. Her gjør vi også noen forenklinger:\n",
    "\n",
    " - Kolonnen `white` indikerer om personen er \"hvit\" eller ikke, hvor vi definerer hvit som gruppen (\"race\") \"Caucasian\" i det originale datasettet\n",
    " - Kolonnen `predicted` indikerer om personen er predikert til å begå nye lovbrudd\n",
    " - Kolonnen `actual` indikerer om personen faktisk begikk nye lovbrudd"
   ]
  },
  {
   "cell_type": "code",
   "execution_count": 1,
   "id": "overall-thursday",
   "metadata": {},
   "outputs": [
    {
     "data": {
      "text/html": [
       "<div>\n",
       "<style scoped>\n",
       "    .dataframe tbody tr th:only-of-type {\n",
       "        vertical-align: middle;\n",
       "    }\n",
       "\n",
       "    .dataframe tbody tr th {\n",
       "        vertical-align: top;\n",
       "    }\n",
       "\n",
       "    .dataframe thead th {\n",
       "        text-align: right;\n",
       "    }\n",
       "</style>\n",
       "<table border=\"1\" class=\"dataframe\">\n",
       "  <thead>\n",
       "    <tr style=\"text-align: right;\">\n",
       "      <th></th>\n",
       "      <th>sex</th>\n",
       "      <th>white</th>\n",
       "      <th>score</th>\n",
       "      <th>predicted</th>\n",
       "      <th>actual</th>\n",
       "    </tr>\n",
       "  </thead>\n",
       "  <tbody>\n",
       "    <tr>\n",
       "      <th>0</th>\n",
       "      <td>Male</td>\n",
       "      <td>False</td>\n",
       "      <td>1</td>\n",
       "      <td>False</td>\n",
       "      <td>False</td>\n",
       "    </tr>\n",
       "    <tr>\n",
       "      <th>1</th>\n",
       "      <td>Male</td>\n",
       "      <td>False</td>\n",
       "      <td>3</td>\n",
       "      <td>False</td>\n",
       "      <td>True</td>\n",
       "    </tr>\n",
       "    <tr>\n",
       "      <th>2</th>\n",
       "      <td>Male</td>\n",
       "      <td>False</td>\n",
       "      <td>4</td>\n",
       "      <td>False</td>\n",
       "      <td>True</td>\n",
       "    </tr>\n",
       "    <tr>\n",
       "      <th>3</th>\n",
       "      <td>Male</td>\n",
       "      <td>False</td>\n",
       "      <td>8</td>\n",
       "      <td>True</td>\n",
       "      <td>False</td>\n",
       "    </tr>\n",
       "    <tr>\n",
       "      <th>4</th>\n",
       "      <td>Male</td>\n",
       "      <td>False</td>\n",
       "      <td>1</td>\n",
       "      <td>False</td>\n",
       "      <td>False</td>\n",
       "    </tr>\n",
       "    <tr>\n",
       "      <th>...</th>\n",
       "      <td>...</td>\n",
       "      <td>...</td>\n",
       "      <td>...</td>\n",
       "      <td>...</td>\n",
       "      <td>...</td>\n",
       "    </tr>\n",
       "    <tr>\n",
       "      <th>7209</th>\n",
       "      <td>Male</td>\n",
       "      <td>False</td>\n",
       "      <td>7</td>\n",
       "      <td>True</td>\n",
       "      <td>False</td>\n",
       "    </tr>\n",
       "    <tr>\n",
       "      <th>7210</th>\n",
       "      <td>Male</td>\n",
       "      <td>False</td>\n",
       "      <td>3</td>\n",
       "      <td>False</td>\n",
       "      <td>False</td>\n",
       "    </tr>\n",
       "    <tr>\n",
       "      <th>7211</th>\n",
       "      <td>Male</td>\n",
       "      <td>False</td>\n",
       "      <td>1</td>\n",
       "      <td>False</td>\n",
       "      <td>False</td>\n",
       "    </tr>\n",
       "    <tr>\n",
       "      <th>7212</th>\n",
       "      <td>Female</td>\n",
       "      <td>False</td>\n",
       "      <td>2</td>\n",
       "      <td>False</td>\n",
       "      <td>False</td>\n",
       "    </tr>\n",
       "    <tr>\n",
       "      <th>7213</th>\n",
       "      <td>Female</td>\n",
       "      <td>False</td>\n",
       "      <td>4</td>\n",
       "      <td>False</td>\n",
       "      <td>True</td>\n",
       "    </tr>\n",
       "  </tbody>\n",
       "</table>\n",
       "<p>7214 rows × 5 columns</p>\n",
       "</div>"
      ],
      "text/plain": [
       "         sex  white  score  predicted  actual\n",
       "0       Male  False      1      False   False\n",
       "1       Male  False      3      False    True\n",
       "2       Male  False      4      False    True\n",
       "3       Male  False      8       True   False\n",
       "4       Male  False      1      False   False\n",
       "...      ...    ...    ...        ...     ...\n",
       "7209    Male  False      7       True   False\n",
       "7210    Male  False      3      False   False\n",
       "7211    Male  False      1      False   False\n",
       "7212  Female  False      2      False   False\n",
       "7213  Female  False      4      False    True\n",
       "\n",
       "[7214 rows x 5 columns]"
      ]
     },
     "execution_count": 1,
     "metadata": {},
     "output_type": "execute_result"
    }
   ],
   "source": [
    "import pandas as pd\n",
    "\n",
    "data = pd.read_csv(\"../data/compas-scores-two-years.csv\")\n",
    "df = pd.DataFrame({ \n",
    "    \"sex\": data.sex,\n",
    "    \"white\": data.race == \"Caucasian\",\n",
    "    \"score\": data.decile_score,\n",
    "    \"predicted\": data.score_text != \"Low\",\n",
    "    \"actual\": data.is_recid == 1\n",
    "})\n",
    "df"
   ]
  },
  {
   "cell_type": "markdown",
   "id": "preceding-greenhouse",
   "metadata": {},
   "source": [
    "## Predikerte og faktisk gjentatte forbrytelser\n",
    "\n",
    "Vi lager firefeltstabeller for å se på hvor ofte ulike grupperinger (kvinner/menn og hvite/svarte) blir prediktert å gjenta forbrytelser og faktisk gjør det."
   ]
  },
  {
   "cell_type": "code",
   "execution_count": 2,
   "id": "frozen-canada",
   "metadata": {},
   "outputs": [],
   "source": [
    "def get_relative_frequency(group, target):\n",
    "    group_size = len(df[group])\n",
    "    target_size = len(df[group & target])\n",
    "    rel_freq = target_size/group_size\n",
    "    return f'{rel_freq*100:.1f}%'\n",
    "\n",
    "def four_field_table(group, group_name, rest_name):\n",
    "    return pd.DataFrame({\n",
    "        \"Predikert\": [get_relative_frequency(group, df.predicted), get_relative_frequency(~group, df.predicted)],\n",
    "        \"Faktisk\": [get_relative_frequency(group, df.actual), get_relative_frequency(~group, df.actual)],\n",
    "    }, index = [group_name, rest_name])"
   ]
  },
  {
   "cell_type": "markdown",
   "id": "adjustable-henry",
   "metadata": {},
   "source": [
    "### Prediktert og faktisk gjentatte forbrytelser etter hudfarge"
   ]
  },
  {
   "cell_type": "code",
   "execution_count": 3,
   "id": "hazardous-humor",
   "metadata": {},
   "outputs": [
    {
     "data": {
      "text/html": [
       "<div>\n",
       "<style scoped>\n",
       "    .dataframe tbody tr th:only-of-type {\n",
       "        vertical-align: middle;\n",
       "    }\n",
       "\n",
       "    .dataframe tbody tr th {\n",
       "        vertical-align: top;\n",
       "    }\n",
       "\n",
       "    .dataframe thead th {\n",
       "        text-align: right;\n",
       "    }\n",
       "</style>\n",
       "<table border=\"1\" class=\"dataframe\">\n",
       "  <thead>\n",
       "    <tr style=\"text-align: right;\">\n",
       "      <th></th>\n",
       "      <th>Predikert</th>\n",
       "      <th>Faktisk</th>\n",
       "    </tr>\n",
       "  </thead>\n",
       "  <tbody>\n",
       "    <tr>\n",
       "      <th>Hvite</th>\n",
       "      <td>34.8%</td>\n",
       "      <td>41.8%</td>\n",
       "    </tr>\n",
       "    <tr>\n",
       "      <th>Ikke-hvite</th>\n",
       "      <td>51.7%</td>\n",
       "      <td>51.4%</td>\n",
       "    </tr>\n",
       "  </tbody>\n",
       "</table>\n",
       "</div>"
      ],
      "text/plain": [
       "           Predikert Faktisk\n",
       "Hvite          34.8%   41.8%\n",
       "Ikke-hvite     51.7%   51.4%"
      ]
     },
     "execution_count": 3,
     "metadata": {},
     "output_type": "execute_result"
    }
   ],
   "source": [
    "four_field_table(df.white, \"Hvite\", \"Ikke-hvite\")"
   ]
  },
  {
   "cell_type": "markdown",
   "id": "dimensional-crystal",
   "metadata": {},
   "source": [
    "### Predikert og faktisk gjentatte forbrytelser etter kjønn"
   ]
  },
  {
   "cell_type": "code",
   "execution_count": 4,
   "id": "understanding-marsh",
   "metadata": {},
   "outputs": [
    {
     "data": {
      "text/html": [
       "<div>\n",
       "<style scoped>\n",
       "    .dataframe tbody tr th:only-of-type {\n",
       "        vertical-align: middle;\n",
       "    }\n",
       "\n",
       "    .dataframe tbody tr th {\n",
       "        vertical-align: top;\n",
       "    }\n",
       "\n",
       "    .dataframe thead th {\n",
       "        text-align: right;\n",
       "    }\n",
       "</style>\n",
       "<table border=\"1\" class=\"dataframe\">\n",
       "  <thead>\n",
       "    <tr style=\"text-align: right;\">\n",
       "      <th></th>\n",
       "      <th>Predikert</th>\n",
       "      <th>Faktisk</th>\n",
       "    </tr>\n",
       "  </thead>\n",
       "  <tbody>\n",
       "    <tr>\n",
       "      <th>Menn</th>\n",
       "      <td>46.8%</td>\n",
       "      <td>50.5%</td>\n",
       "    </tr>\n",
       "    <tr>\n",
       "      <th>Kvinner</th>\n",
       "      <td>42.4%</td>\n",
       "      <td>38.0%</td>\n",
       "    </tr>\n",
       "  </tbody>\n",
       "</table>\n",
       "</div>"
      ],
      "text/plain": [
       "        Predikert Faktisk\n",
       "Menn        46.8%   50.5%\n",
       "Kvinner     42.4%   38.0%"
      ]
     },
     "execution_count": 4,
     "metadata": {},
     "output_type": "execute_result"
    }
   ],
   "source": [
    "four_field_table(df.sex == 'Male', \"Menn\", \"Kvinner\")"
   ]
  },
  {
   "cell_type": "markdown",
   "id": "instant-teddy",
   "metadata": {},
   "source": [
    "## Fare-score\n",
    "\n",
    "COMPAS gir en score fra 1 til 10 for hver at gjerningspersonen i en sak er \"farlig\". Vi ser på fordelingen av denne scoren i forskjellige grupper."
   ]
  },
  {
   "cell_type": "code",
   "execution_count": 5,
   "id": "signal-rogers",
   "metadata": {},
   "outputs": [],
   "source": [
    "def plot_score_dist(df, title, group, group_name, rest_name):\n",
    "    pd.DataFrame({\n",
    "        \"Alle\": df.score.value_counts(normalize = True),\n",
    "        group_name: df[group].score.value_counts(normalize = True),\n",
    "        rest_name: df[~group].score.value_counts(normalize = True)\n",
    "    }).sort_index().plot(title = title, style = {\"Alle\": \"k--\"})"
   ]
  },
  {
   "cell_type": "markdown",
   "id": "aware-stranger",
   "metadata": {},
   "source": [
    "### Fordeling av score etter hudfarge"
   ]
  },
  {
   "cell_type": "code",
   "execution_count": 6,
   "id": "acquired-limitation",
   "metadata": {},
   "outputs": [
    {
     "data": {
      "image/png": "[encoded data removed]",
      "text/plain": [
       "<Figure size 432x288 with 1 Axes>"
      ]
     },
     "metadata": {
      "needs_background": "light"
     },
     "output_type": "display_data"
    }
   ],
   "source": [
    "plot_score_dist(df, \"Score etter hudfarge\", df.white, \"Hvite\", \"Ikke-hvite\")"
   ]
  },
  {
   "cell_type": "markdown",
   "id": "governing-arrest",
   "metadata": {},
   "source": [
    "### Fordeling av score etter kjønn"
   ]
  },
  {
   "cell_type": "code",
   "execution_count": 7,
   "id": "american-engagement",
   "metadata": {},
   "outputs": [
    {
     "data": {
      "image/png": "[encoded data removed]",
      "text/plain": [
       "<Figure size 432x288 with 1 Axes>"
      ]
     },
     "metadata": {
      "needs_background": "light"
     },
     "output_type": "display_data"
    }
   ],
   "source": [
    "plot_score_dist(df, \"Score etter kjønn\", df.sex == 'Male', \"Menn\", \"Kvinner\")"
   ]
  },
  {
   "cell_type": "markdown",
   "id": "unnecessary-poison",
   "metadata": {},
   "source": [
    "### Fordeling av score etter gjentatt forbrytelse"
   ]
  },
  {
   "cell_type": "code",
   "execution_count": 8,
   "id": "blond-bumper",
   "metadata": {},
   "outputs": [
    {
     "data": {
      "image/png": "[encoded data removed]",
      "text/plain": [
       "<Figure size 432x288 with 1 Axes>"
      ]
     },
     "metadata": {
      "needs_background": "light"
     },
     "output_type": "display_data"
    }
   ],
   "source": [
    "plot_score_dist(df, \"Score etter gjentatt forbrytelse\", df.actual, \"Gjentatt\", \"Ikke gjentatt\")"
   ]
  },
  {
   "cell_type": "markdown",
   "id": "bottom-growing",
   "metadata": {},
   "source": [
    "### Fordeling av score etter gjentatte forbrytelser, hvite"
   ]
  },
  {
   "cell_type": "code",
   "execution_count": 9,
   "id": "unnecessary-strap",
   "metadata": {},
   "outputs": [
    {
     "data": {
      "image/png": "[encoded data removed]",
      "text/plain": [
       "<Figure size 432x288 with 1 Axes>"
      ]
     },
     "metadata": {
      "needs_background": "light"
     },
     "output_type": "display_data"
    }
   ],
   "source": [
    "df_white = df[df.white]\n",
    "plot_score_dist(df_white, \"Score etter gjentatt forbrytelser, hvite\", df_white.actual, \"Gjentatt\", \"Ikke gjentatt\")"
   ]
  },
  {
   "cell_type": "markdown",
   "id": "narrative-quest",
   "metadata": {},
   "source": [
    "### Fordeling av score etter gjentatte forbrytelser, ikke-hvite"
   ]
  },
  {
   "cell_type": "code",
   "execution_count": 10,
   "id": "stock-check",
   "metadata": {},
   "outputs": [
    {
     "data": {
      "image/png": "[encoded data removed]",
      "text/plain": [
       "<Figure size 432x288 with 1 Axes>"
      ]
     },
     "metadata": {
      "needs_background": "light"
     },
     "output_type": "display_data"
    }
   ],
   "source": [
    "df_non_white = df[~df.white]\n",
    "plot_score_dist(df_non_white, \"Score etter gjentatt forbrytelser, ikke-hvite\", df_non_white.actual, \"Gjentatt\", \"Ikke gjentatt\")"
   ]
  },
  {
   "cell_type": "markdown",
   "id": "collected-orbit",
   "metadata": {},
   "source": [
    "# Betinget sannsynlighet\n",
    "Positiv prediktiv verdi er sannsynligheten for at en person som ble predikert å begå nye lovbrudd faktisk begikk nye lovbrudd. Sensitivitet er det \"motsatte\": sannsynligheten for at en person som faktisk begikk nye lovbrudd ble predikert å gjøre det.\n",
    "\n",
    "De to sannsynligheten er relatert med Bayes setning.  "
   ]
  },
  {
   "cell_type": "code",
   "execution_count": 11,
   "id": "touched-birthday",
   "metadata": {},
   "outputs": [
    {
     "name": "stdout",
     "output_type": "stream",
     "text": [
      "Alle\n"
     ]
    },
    {
     "data": {
      "text/html": [
       "<div>\n",
       "<style scoped>\n",
       "    .dataframe tbody tr th:only-of-type {\n",
       "        vertical-align: middle;\n",
       "    }\n",
       "\n",
       "    .dataframe tbody tr th {\n",
       "        vertical-align: top;\n",
       "    }\n",
       "\n",
       "    .dataframe thead th {\n",
       "        text-align: right;\n",
       "    }\n",
       "</style>\n",
       "<table border=\"1\" class=\"dataframe\">\n",
       "  <thead>\n",
       "    <tr style=\"text-align: right;\">\n",
       "      <th></th>\n",
       "      <th>Ikke gjentatt</th>\n",
       "      <th>Gjentatt lovbrudd</th>\n",
       "    </tr>\n",
       "  </thead>\n",
       "  <tbody>\n",
       "    <tr>\n",
       "      <th>Ikke predikert</th>\n",
       "      <td>0.355697</td>\n",
       "      <td>0.184502</td>\n",
       "    </tr>\n",
       "    <tr>\n",
       "      <th>Predikert</th>\n",
       "      <td>0.163155</td>\n",
       "      <td>0.296645</td>\n",
       "    </tr>\n",
       "  </tbody>\n",
       "</table>\n",
       "</div>"
      ],
      "text/plain": [
       "                Ikke gjentatt  Gjentatt lovbrudd\n",
       "Ikke predikert       0.355697           0.184502\n",
       "Predikert            0.163155           0.296645"
      ]
     },
     "metadata": {},
     "output_type": "display_data"
    },
    {
     "name": "stdout",
     "output_type": "stream",
     "text": [
      "Pos. pred. verdi:  0.6451612903225806\n",
      "Sensitivitet:  0.6165370210314031\n",
      "\n",
      "Hvite\n"
     ]
    },
    {
     "data": {
      "text/html": [
       "<div>\n",
       "<style scoped>\n",
       "    .dataframe tbody tr th:only-of-type {\n",
       "        vertical-align: middle;\n",
       "    }\n",
       "\n",
       "    .dataframe tbody tr th {\n",
       "        vertical-align: top;\n",
       "    }\n",
       "\n",
       "    .dataframe thead th {\n",
       "        text-align: right;\n",
       "    }\n",
       "</style>\n",
       "<table border=\"1\" class=\"dataframe\">\n",
       "  <thead>\n",
       "    <tr style=\"text-align: right;\">\n",
       "      <th></th>\n",
       "      <th>Ikke gjentatt</th>\n",
       "      <th>Gjentatt lovbrudd</th>\n",
       "    </tr>\n",
       "  </thead>\n",
       "  <tbody>\n",
       "    <tr>\n",
       "      <th>Ikke predikert</th>\n",
       "      <td>0.447433</td>\n",
       "      <td>0.204564</td>\n",
       "    </tr>\n",
       "    <tr>\n",
       "      <th>Predikert</th>\n",
       "      <td>0.134882</td>\n",
       "      <td>0.213121</td>\n",
       "    </tr>\n",
       "  </tbody>\n",
       "</table>\n",
       "</div>"
      ],
      "text/plain": [
       "                Ikke gjentatt  Gjentatt lovbrudd\n",
       "Ikke predikert       0.447433           0.204564\n",
       "Predikert            0.134882           0.213121"
      ]
     },
     "metadata": {},
     "output_type": "display_data"
    },
    {
     "name": "stdout",
     "output_type": "stream",
     "text": [
      "Pos. pred. verdi:  0.6124121779859485\n",
      "Sensitivitet:  0.5102439024390244\n",
      "\n",
      "Ikke-hvite\n"
     ]
    },
    {
     "data": {
      "text/html": [
       "<div>\n",
       "<style scoped>\n",
       "    .dataframe tbody tr th:only-of-type {\n",
       "        vertical-align: middle;\n",
       "    }\n",
       "\n",
       "    .dataframe tbody tr th {\n",
       "        vertical-align: top;\n",
       "    }\n",
       "\n",
       "    .dataframe thead th {\n",
       "        text-align: right;\n",
       "    }\n",
       "</style>\n",
       "<table border=\"1\" class=\"dataframe\">\n",
       "  <thead>\n",
       "    <tr style=\"text-align: right;\">\n",
       "      <th></th>\n",
       "      <th>Ikke gjentatt</th>\n",
       "      <th>Gjentatt lovbrudd</th>\n",
       "    </tr>\n",
       "  </thead>\n",
       "  <tbody>\n",
       "    <tr>\n",
       "      <th>Ikke predikert</th>\n",
       "      <td>0.308403</td>\n",
       "      <td>0.174160</td>\n",
       "    </tr>\n",
       "    <tr>\n",
       "      <th>Predikert</th>\n",
       "      <td>0.177731</td>\n",
       "      <td>0.339706</td>\n",
       "    </tr>\n",
       "  </tbody>\n",
       "</table>\n",
       "</div>"
      ],
      "text/plain": [
       "                Ikke gjentatt  Gjentatt lovbrudd\n",
       "Ikke predikert       0.308403           0.174160\n",
       "Predikert            0.177731           0.339706"
      ]
     },
     "metadata": {},
     "output_type": "display_data"
    },
    {
     "name": "stdout",
     "output_type": "stream",
     "text": [
      "Pos. pred. verdi:  0.656516443361754\n",
      "Sensitivitet:  0.6610793131643501\n",
      "\n",
      "Menn\n"
     ]
    },
    {
     "data": {
      "text/html": [
       "<div>\n",
       "<style scoped>\n",
       "    .dataframe tbody tr th:only-of-type {\n",
       "        vertical-align: middle;\n",
       "    }\n",
       "\n",
       "    .dataframe tbody tr th {\n",
       "        vertical-align: top;\n",
       "    }\n",
       "\n",
       "    .dataframe thead th {\n",
       "        text-align: right;\n",
       "    }\n",
       "</style>\n",
       "<table border=\"1\" class=\"dataframe\">\n",
       "  <thead>\n",
       "    <tr style=\"text-align: right;\">\n",
       "      <th></th>\n",
       "      <th>Ikke gjentatt</th>\n",
       "      <th>Gjentatt lovbrudd</th>\n",
       "    </tr>\n",
       "  </thead>\n",
       "  <tbody>\n",
       "    <tr>\n",
       "      <th>Ikke predikert</th>\n",
       "      <td>0.339062</td>\n",
       "      <td>0.192473</td>\n",
       "    </tr>\n",
       "    <tr>\n",
       "      <th>Predikert</th>\n",
       "      <td>0.155525</td>\n",
       "      <td>0.312940</td>\n",
       "    </tr>\n",
       "  </tbody>\n",
       "</table>\n",
       "</div>"
      ],
      "text/plain": [
       "                Ikke gjentatt  Gjentatt lovbrudd\n",
       "Ikke predikert       0.339062           0.192473\n",
       "Predikert            0.155525           0.312940"
      ]
     },
     "metadata": {},
     "output_type": "display_data"
    },
    {
     "name": "stdout",
     "output_type": "stream",
     "text": [
      "Pos. pred. verdi:  0.6680117388114453\n",
      "Sensitivitet:  0.6191771506290378\n",
      "\n",
      "Kvinner\n"
     ]
    },
    {
     "data": {
      "text/html": [
       "<div>\n",
       "<style scoped>\n",
       "    .dataframe tbody tr th:only-of-type {\n",
       "        vertical-align: middle;\n",
       "    }\n",
       "\n",
       "    .dataframe tbody tr th {\n",
       "        vertical-align: top;\n",
       "    }\n",
       "\n",
       "    .dataframe thead th {\n",
       "        text-align: right;\n",
       "    }\n",
       "</style>\n",
       "<table border=\"1\" class=\"dataframe\">\n",
       "  <thead>\n",
       "    <tr style=\"text-align: right;\">\n",
       "      <th></th>\n",
       "      <th>Ikke gjentatt</th>\n",
       "      <th>Gjentatt lovbrudd</th>\n",
       "    </tr>\n",
       "  </thead>\n",
       "  <tbody>\n",
       "    <tr>\n",
       "      <th>Ikke predikert</th>\n",
       "      <td>0.425090</td>\n",
       "      <td>0.151254</td>\n",
       "    </tr>\n",
       "    <tr>\n",
       "      <th>Predikert</th>\n",
       "      <td>0.194982</td>\n",
       "      <td>0.228674</td>\n",
       "    </tr>\n",
       "  </tbody>\n",
       "</table>\n",
       "</div>"
      ],
      "text/plain": [
       "                Ikke gjentatt  Gjentatt lovbrudd\n",
       "Ikke predikert       0.425090           0.151254\n",
       "Predikert            0.194982           0.228674"
      ]
     },
     "metadata": {},
     "output_type": "display_data"
    },
    {
     "name": "stdout",
     "output_type": "stream",
     "text": [
      "Pos. pred. verdi:  0.5397631133671742\n",
      "Sensitivitet:  0.6018867924528302\n"
     ]
    }
   ],
   "source": [
    "def conditional_prob(df):\n",
    "    a = pd.DataFrame({\n",
    "        \"Ikke gjentatt\": df[~df.actual].predicted.value_counts().sort_index(),\n",
    "        \"Gjentatt lovbrudd\": df[df.actual].predicted.value_counts().sort_index()\n",
    "    }).rename({False: \"Ikke predikert\", True: \"Predikert\"}) / len(df)\n",
    "    display(a)\n",
    "    pos_pred = a[\"Gjentatt lovbrudd\"][\"Predikert\"] / a.loc[\"Predikert\"].sum()\n",
    "    print(\"Pos. pred. verdi: \", pos_pred)\n",
    "    sens = a[\"Gjentatt lovbrudd\"][\"Predikert\"] / a[\"Gjentatt lovbrudd\"].sum()\n",
    "    print(\"Sensitivitet: \", sens)\n",
    "    \n",
    "print(\"Alle\")\n",
    "conditional_prob(df)\n",
    "\n",
    "print(\"\\nHvite\")\n",
    "conditional_prob(df[df.white])\n",
    "\n",
    "print(\"\\nIkke-hvite\")\n",
    "conditional_prob(df[~df.white])\n",
    "\n",
    "print(\"\\nMenn\")\n",
    "conditional_prob(df[df.sex == 'Male'])\n",
    "\n",
    "print(\"\\nKvinner\")\n",
    "conditional_prob(df[df.sex == 'Female'])"
   ]
  },
  {
   "cell_type": "markdown",
   "id": "amateur-boston",
   "metadata": {},
   "source": [
    "# Predikere prediksjonen"
   ]
  },
  {
   "cell_type": "code",
   "execution_count": 12,
   "id": "marine-mount",
   "metadata": {},
   "outputs": [
    {
     "name": "stdout",
     "output_type": "stream",
     "text": [
      "[[ 0.25987589  0.63271886 -1.26300553  1.26432389  0.50714728 -0.2013607\n",
      "  -0.30955637  0.62890969 -0.81408274  0.22142297 -0.26303721]]\n",
      "[-1.47159474]\n"
     ]
    }
   ],
   "source": [
    "from sklearn.linear_model import LogisticRegression\n",
    "import numpy as np\n",
    "\n",
    "categorical_cols = [\"age_cat\", \"race\", \"sex\", \"c_charge_degree\"]\n",
    "X = data[[\"age_cat\", \"race\", \"sex\", \"priors_count\", \"c_charge_degree\", \"two_year_recid\"]]\n",
    "X = pd.get_dummies(X, columns=categorical_cols, prefix=categorical_cols, prefix_sep='_')\n",
    "X = X.drop([\"age_cat_25 - 45\", \"race_Caucasian\", \"sex_Male\", \"c_charge_degree_F\"], axis=1)\n",
    "\n",
    "Y = data[\"score_text\"] != \"Low\"\n",
    "\n",
    "model = LogisticRegression(max_iter=1000)\n",
    "model.fit(X, Y)\n",
    "\n",
    "print(model.coef_)\n",
    "print(model.intercept_)"
   ]
  },
  {
   "cell_type": "code",
   "execution_count": 13,
   "id": "collected-terminology",
   "metadata": {},
   "outputs": [
    {
     "data": {
      "text/plain": [
       "1.4782437952042453"
      ]
     },
     "execution_count": 13,
     "metadata": {},
     "output_type": "execute_result"
    }
   ],
   "source": [
    "black_coef = model.coef_[0, list(X.columns).index('race_African-American')]\n",
    "intercept = model.intercept_[0]\n",
    "\n",
    "control = 1/(1+np.exp(-intercept))\n",
    "racialBias = np.exp(black_coef) / (1 + control * (np.exp(black_coef) - 1))\n",
    "racialBias"
   ]
  }
 ],
 "metadata": {
  "kernelspec": {
   "display_name": "Python 3",
   "language": "python",
   "name": "python3"
  },
  "language_info": {
   "codemirror_mode": {
    "name": "ipython",
    "version": 3
   },
   "file_extension": ".py",
   "mimetype": "text/x-python",
   "name": "python",
   "nbconvert_exporter": "python",
   "pygments_lexer": "ipython3",
   "version": "3.9.2"
  }
 },
 "nbformat": 4,
 "nbformat_minor": 5
}
