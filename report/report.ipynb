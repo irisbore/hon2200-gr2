{
 "cells": [
  {
   "cell_type": "markdown",
   "metadata": {},
   "source": [
    "# COMPAS "
   ]
  },
  {
   "cell_type": "markdown",
   "metadata": {},
   "source": [
    "## Abstract\n",
    "COMPAS er en algoritme utvikla for å anslå hvor trolig det er at en sikta person vil begå nye straffbare handlinger, og brukes utbredt i amerikansk rettvesen. Da nettavisen ProPublica i 2016 tok for seg ulike deler av algoritmen, synes det gjennomgående at algoritmen på bakgrunn av etnisitet ga hvite et lavere risikoanslag enn svarte. Derfor skal vi i denne analysen ta for oss ulike deler av algoritmen, og konsekvensene av dem."
   ]
  },
  {
   "cell_type": "markdown",
   "metadata": {},
   "source": [
    "# Lese inn og forstå dataene\n",
    "\n",
    "Vi bruker Pandas til å lese inn dataene, og lager en `DataFrame` med de kolonnene vi er interessert i å se på. Her gjør vi også noen forenklinger:\n",
    "\n",
    " - Kolonnen `white` indikerer om personen er \"hvit\" eller ikke, hvor vi definerer hvit som gruppen (\"race\") \"Caucasian\" i det originale datasettet\n",
    " - Kolonnen `predicted` indikerer om personen er predikert til å begå nye lovbrudd\n",
    " - Kolonnen `actual` indikerer om personen faktisk begikk nye lovbrudd"
   ]
  },
  {
   "cell_type": "code",
   "execution_count": 1,
   "metadata": {},
   "outputs": [],
   "source": [
    "import pandas as pd\n",
    "import matplotlib.ticker as mtick\n",
    "from IPython.core.display import display, HTML\n",
    "\n",
    "def display_df_pct(df):\n",
    "    display(HTML(df.to_html(float_format=lambda x: f'{x*100:.1f}%')))\n",
    "\n",
    "data = pd.read_csv(\"../data/compas-scores-two-years.csv\")\n",
    "data = data[data[\"days_b_screening_arrest\"] <= 30]\n",
    "data = data[data[\"days_b_screening_arrest\"] >= -30]"
   ]
  },
  {
   "cell_type": "code",
   "execution_count": 2,
   "metadata": {},
   "outputs": [
    {
     "data": {
      "text/html": [
       "<div>\n",
       "<style scoped>\n",
       "    .dataframe tbody tr th:only-of-type {\n",
       "        vertical-align: middle;\n",
       "    }\n",
       "\n",
       "    .dataframe tbody tr th {\n",
       "        vertical-align: top;\n",
       "    }\n",
       "\n",
       "    .dataframe thead th {\n",
       "        text-align: right;\n",
       "    }\n",
       "</style>\n",
       "<table border=\"1\" class=\"dataframe\">\n",
       "  <thead>\n",
       "    <tr style=\"text-align: right;\">\n",
       "      <th></th>\n",
       "      <th>sex</th>\n",
       "      <th>white</th>\n",
       "      <th>score</th>\n",
       "      <th>predicted</th>\n",
       "      <th>actual</th>\n",
       "    </tr>\n",
       "  </thead>\n",
       "  <tbody>\n",
       "    <tr>\n",
       "      <th>0</th>\n",
       "      <td>Male</td>\n",
       "      <td>False</td>\n",
       "      <td>1</td>\n",
       "      <td>False</td>\n",
       "      <td>False</td>\n",
       "    </tr>\n",
       "    <tr>\n",
       "      <th>1</th>\n",
       "      <td>Male</td>\n",
       "      <td>False</td>\n",
       "      <td>3</td>\n",
       "      <td>False</td>\n",
       "      <td>True</td>\n",
       "    </tr>\n",
       "    <tr>\n",
       "      <th>2</th>\n",
       "      <td>Male</td>\n",
       "      <td>False</td>\n",
       "      <td>4</td>\n",
       "      <td>False</td>\n",
       "      <td>True</td>\n",
       "    </tr>\n",
       "    <tr>\n",
       "      <th>5</th>\n",
       "      <td>Male</td>\n",
       "      <td>False</td>\n",
       "      <td>1</td>\n",
       "      <td>False</td>\n",
       "      <td>False</td>\n",
       "    </tr>\n",
       "    <tr>\n",
       "      <th>6</th>\n",
       "      <td>Male</td>\n",
       "      <td>True</td>\n",
       "      <td>6</td>\n",
       "      <td>True</td>\n",
       "      <td>True</td>\n",
       "    </tr>\n",
       "    <tr>\n",
       "      <th>...</th>\n",
       "      <td>...</td>\n",
       "      <td>...</td>\n",
       "      <td>...</td>\n",
       "      <td>...</td>\n",
       "      <td>...</td>\n",
       "    </tr>\n",
       "    <tr>\n",
       "      <th>7209</th>\n",
       "      <td>Male</td>\n",
       "      <td>False</td>\n",
       "      <td>7</td>\n",
       "      <td>True</td>\n",
       "      <td>False</td>\n",
       "    </tr>\n",
       "    <tr>\n",
       "      <th>7210</th>\n",
       "      <td>Male</td>\n",
       "      <td>False</td>\n",
       "      <td>3</td>\n",
       "      <td>False</td>\n",
       "      <td>False</td>\n",
       "    </tr>\n",
       "    <tr>\n",
       "      <th>7211</th>\n",
       "      <td>Male</td>\n",
       "      <td>False</td>\n",
       "      <td>1</td>\n",
       "      <td>False</td>\n",
       "      <td>False</td>\n",
       "    </tr>\n",
       "    <tr>\n",
       "      <th>7212</th>\n",
       "      <td>Female</td>\n",
       "      <td>False</td>\n",
       "      <td>2</td>\n",
       "      <td>False</td>\n",
       "      <td>False</td>\n",
       "    </tr>\n",
       "    <tr>\n",
       "      <th>7213</th>\n",
       "      <td>Female</td>\n",
       "      <td>False</td>\n",
       "      <td>4</td>\n",
       "      <td>False</td>\n",
       "      <td>True</td>\n",
       "    </tr>\n",
       "  </tbody>\n",
       "</table>\n",
       "<p>6172 rows × 5 columns</p>\n",
       "</div>"
      ],
      "text/plain": [
       "         sex  white  score  predicted  actual\n",
       "0       Male  False      1      False   False\n",
       "1       Male  False      3      False    True\n",
       "2       Male  False      4      False    True\n",
       "5       Male  False      1      False   False\n",
       "6       Male   True      6       True    True\n",
       "...      ...    ...    ...        ...     ...\n",
       "7209    Male  False      7       True   False\n",
       "7210    Male  False      3      False   False\n",
       "7211    Male  False      1      False   False\n",
       "7212  Female  False      2      False   False\n",
       "7213  Female  False      4      False    True\n",
       "\n",
       "[6172 rows x 5 columns]"
      ]
     },
     "execution_count": 2,
     "metadata": {},
     "output_type": "execute_result"
    }
   ],
   "source": [
    "df = pd.DataFrame({ \n",
    "    \"sex\": data.sex,\n",
    "    \"white\": data.race == \"Caucasian\",\n",
    "    \"score\": data.decile_score,\n",
    "    \"predicted\": data.score_text != \"Low\",\n",
    "    \"actual\": data.is_recid == 1\n",
    "})\n",
    "df"
   ]
  },
  {
   "cell_type": "markdown",
   "metadata": {},
   "source": [
    "## Predikerte og faktisk gjentatte forbrytelser\n",
    "\n",
    "Vi lager firefeltstabeller for å se på hvor ofte ulike grupperinger (kvinner/menn og hvite/ikke-hvite) blir predikert å gjenta forbrytelser og faktisk gjør det."
   ]
  },
  {
   "cell_type": "code",
   "execution_count": 3,
   "metadata": {},
   "outputs": [],
   "source": [
    "def get_relative_frequency(group, target):\n",
    "    group_size = len(df[group])\n",
    "    target_size = len(df[group & target])\n",
    "    rel_freq = target_size/group_size\n",
    "    return f'{rel_freq*100:.1f}%'\n",
    "\n",
    "def four_field_table(group, group_name, rest_name):\n",
    "    return pd.DataFrame({\n",
    "        \"Predikert\": [get_relative_frequency(group, df.predicted), get_relative_frequency(~group, df.predicted)],\n",
    "        \"Faktisk\": [get_relative_frequency(group, df.actual), get_relative_frequency(~group, df.actual)],\n",
    "    }, index = [group_name, rest_name])"
   ]
  },
  {
   "cell_type": "markdown",
   "metadata": {},
   "source": [
    "### Predikerte og faktisk gjentatte forbrytelser etter hudfarge"
   ]
  },
  {
   "cell_type": "code",
   "execution_count": 4,
   "metadata": {},
   "outputs": [
    {
     "data": {
      "text/html": [
       "<div>\n",
       "<style scoped>\n",
       "    .dataframe tbody tr th:only-of-type {\n",
       "        vertical-align: middle;\n",
       "    }\n",
       "\n",
       "    .dataframe tbody tr th {\n",
       "        vertical-align: top;\n",
       "    }\n",
       "\n",
       "    .dataframe thead th {\n",
       "        text-align: right;\n",
       "    }\n",
       "</style>\n",
       "<table border=\"1\" class=\"dataframe\">\n",
       "  <thead>\n",
       "    <tr style=\"text-align: right;\">\n",
       "      <th></th>\n",
       "      <th>Predikert</th>\n",
       "      <th>Faktisk</th>\n",
       "    </tr>\n",
       "  </thead>\n",
       "  <tbody>\n",
       "    <tr>\n",
       "      <th>Hvite</th>\n",
       "      <td>33.1%</td>\n",
       "      <td>41.6%</td>\n",
       "    </tr>\n",
       "    <tr>\n",
       "      <th>Ikke-hvite</th>\n",
       "      <td>50.5%</td>\n",
       "      <td>52.0%</td>\n",
       "    </tr>\n",
       "  </tbody>\n",
       "</table>\n",
       "</div>"
      ],
      "text/plain": [
       "           Predikert Faktisk\n",
       "Hvite          33.1%   41.6%\n",
       "Ikke-hvite     50.5%   52.0%"
      ]
     },
     "execution_count": 4,
     "metadata": {},
     "output_type": "execute_result"
    }
   ],
   "source": [
    "four_field_table(df.white, \"Hvite\", \"Ikke-hvite\")"
   ]
  },
  {
   "cell_type": "markdown",
   "metadata": {},
   "source": [
    "### Predikerte og faktisk gjentatte forbrytelser etter kjønn"
   ]
  },
  {
   "cell_type": "code",
   "execution_count": 5,
   "metadata": {},
   "outputs": [
    {
     "data": {
      "text/html": [
       "<div>\n",
       "<style scoped>\n",
       "    .dataframe tbody tr th:only-of-type {\n",
       "        vertical-align: middle;\n",
       "    }\n",
       "\n",
       "    .dataframe tbody tr th {\n",
       "        vertical-align: top;\n",
       "    }\n",
       "\n",
       "    .dataframe thead th {\n",
       "        text-align: right;\n",
       "    }\n",
       "</style>\n",
       "<table border=\"1\" class=\"dataframe\">\n",
       "  <thead>\n",
       "    <tr style=\"text-align: right;\">\n",
       "      <th></th>\n",
       "      <th>Predikert</th>\n",
       "      <th>Faktisk</th>\n",
       "    </tr>\n",
       "  </thead>\n",
       "  <tbody>\n",
       "    <tr>\n",
       "      <th>Menn</th>\n",
       "      <td>45.5%</td>\n",
       "      <td>51.1%</td>\n",
       "    </tr>\n",
       "    <tr>\n",
       "      <th>Kvinner</th>\n",
       "      <td>40.5%</td>\n",
       "      <td>37.0%</td>\n",
       "    </tr>\n",
       "  </tbody>\n",
       "</table>\n",
       "</div>"
      ],
      "text/plain": [
       "        Predikert Faktisk\n",
       "Menn        45.5%   51.1%\n",
       "Kvinner     40.5%   37.0%"
      ]
     },
     "execution_count": 5,
     "metadata": {},
     "output_type": "execute_result"
    }
   ],
   "source": [
    "four_field_table(df.sex == 'Male', \"Menn\", \"Kvinner\")"
   ]
  },
  {
   "cell_type": "markdown",
   "metadata": {},
   "source": [
    "Fra tallene ser vi at det blant hvite er 8 prosentpoeng færre som blir predikert å begå nye lovbrudd enn som faktisk gjør det.\n",
    "Det tilsvarende tallet for ikke-hvite er kun 2 prosentpoeng.\n",
    "For menn er det 6 prosentpoeng, og for kvinner -4 prosentpoeng.\n",
    "\n",
    "Dette tyder på en \"overprediksjon\" for kvinner og betraktelig større \"underprediksjon\" for hvite enn ikke-hvite."
   ]
  },
  {
   "cell_type": "markdown",
   "metadata": {},
   "source": [
    "## Fare-score\n",
    "\n",
    "COMPAS gir en score fra 1 til 10 for hver at gjerningspersonen i en sak er \"farlig\". Vi ser på fordelingen av denne scoren i forskjellige grupper."
   ]
  },
  {
   "cell_type": "code",
   "execution_count": 6,
   "metadata": {},
   "outputs": [],
   "source": [
    "def plot_score_dist(df, title, group, group_name, rest_name, all_name = 'Alle'):\n",
    "    ax = pd.DataFrame({\n",
    "        all_name: df.score.value_counts(normalize = True),\n",
    "        group_name: df[group].score.value_counts(normalize = True),\n",
    "        rest_name: df[~group].score.value_counts(normalize = True)\n",
    "    }).sort_index().plot.bar(title = title, style = {all_name: \"k--\"})\n",
    "    ax.yaxis.set_major_formatter(mtick.PercentFormatter(xmax=1.0))\n"
   ]
  },
  {
   "cell_type": "markdown",
   "metadata": {},
   "source": [
    "### Fordeling av score etter hudfarge"
   ]
  },
  {
   "cell_type": "code",
   "execution_count": 20,
   "metadata": {},
   "outputs": [
    {
     "data": {
      "image/png": "[encoded data removed]",
      "text/plain": [
       "<Figure size 432x288 with 1 Axes>"
      ]
     },
     "metadata": {
      "needs_background": "light"
     },
     "output_type": "display_data"
    }
   ],
   "source": [
    "plot_score_dist(df, \"Score etter hudfarge\", df.white, \"Hvite\", \"Ikke-hvite\")"
   ]
  },
  {
   "cell_type": "markdown",
   "metadata": {},
   "source": [
    "Ser at de hvite stolpene har en tilnærmet eksponesiell hellning mot venstre, der de lave risiko-scorene er (mer log-fordelt). I venstre del av grafen er de ikke-hvite stolpene konsekvent lavere enn snittet, i høyre del er det motsatt. "
   ]
  },
  {
   "cell_type": "markdown",
   "metadata": {},
   "source": [
    "### Fordeling av score etter kjønn"
   ]
  },
  {
   "cell_type": "code",
   "execution_count": 8,
   "metadata": {},
   "outputs": [
    {
     "data": {
      "image/png": "[encoded data removed]",
      "text/plain": [
       "<Figure size 432x288 with 1 Axes>"
      ]
     },
     "metadata": {
      "needs_background": "light"
     },
     "output_type": "display_data"
    }
   ],
   "source": [
    "plot_score_dist(df, \"Score etter kjønn\", df.sex == 'Male', \"Menn\", \"Kvinner\")"
   ]
  },
  {
   "cell_type": "markdown",
   "metadata": {},
   "source": [
    "For menn og kvinner ser vi ingen tydelig forskjell i grafene, men hvite har en tydelig mer markant brattere graf en ikke-hvite. Dette betyr at en mindre andel av hvite enn av ikke-hvite får høyere scorer."
   ]
  },
  {
   "cell_type": "markdown",
   "metadata": {},
   "source": [
    "### Fordeling av score etter gjentatt forbrytelse"
   ]
  },
  {
   "cell_type": "code",
   "execution_count": 9,
   "metadata": {},
   "outputs": [
    {
     "data": {
      "image/png": "[encoded data removed]",
      "text/plain": [
       "<Figure size 432x288 with 1 Axes>"
      ]
     },
     "metadata": {
      "needs_background": "light"
     },
     "output_type": "display_data"
    }
   ],
   "source": [
    "plot_score_dist(df, \"Score etter gjentatt forbrytelse\", df.actual, \"Gjentatt\", \"Ikke gjentatt\")"
   ]
  },
  {
   "cell_type": "markdown",
   "metadata": {},
   "source": [
    "### Fordeling av score etter gjentatte forbrytelser, hvite"
   ]
  },
  {
   "cell_type": "code",
   "execution_count": 10,
   "metadata": {},
   "outputs": [
    {
     "data": {
      "image/png": "[encoded data removed]",
      "text/plain": [
       "<Figure size 432x288 with 1 Axes>"
      ]
     },
     "metadata": {
      "needs_background": "light"
     },
     "output_type": "display_data"
    }
   ],
   "source": [
    "df_white = df[df.white]\n",
    "plot_score_dist(df_white, \"Score etter gjentatt forbrytelser, hvite\", df_white.actual, \"Gjentatt\", \"Ikke gjentatt\", \"Alle hvite\")"
   ]
  },
  {
   "cell_type": "markdown",
   "metadata": {},
   "source": [
    "### Fordeling av score etter gjentatte forbrytelser, ikke-hvite"
   ]
  },
  {
   "cell_type": "code",
   "execution_count": 11,
   "metadata": {},
   "outputs": [
    {
     "data": {
      "image/png": "[encoded data removed]",
      "text/plain": [
       "<Figure size 432x288 with 1 Axes>"
      ]
     },
     "metadata": {
      "needs_background": "light"
     },
     "output_type": "display_data"
    }
   ],
   "source": [
    "df_non_white = df[~df.white]\n",
    "plot_score_dist(df_non_white, \"Score etter gjentatt forbrytelser, ikke-hvite\", df_non_white.actual, \"Gjentatt\", \"Ikke gjentatt\", \"Alle ikke-hvite\")"
   ]
  },
  {
   "cell_type": "markdown",
   "metadata": {},
   "source": [
    "Vi ser, som ønsket, at en stor andel av de som ikke begikk lovbrudd på nytt fikk lav risiko-score. Men der score-grafen dipper nedover for høyere scorer for hvite som gjentok forbrytelsene, går den oppover blant de ikke-hvite."
   ]
  },
  {
   "cell_type": "markdown",
   "metadata": {},
   "source": [
    "# Betinget sannsynlighet\n",
    "Positiv prediktiv verdi er sannsynligheten for at en person som ble predikert å begå nye lovbrudd faktisk begikk nye lovbrudd. Sensitivitet er det \"motsatte\": sannsynligheten for at en person som faktisk begikk nye lovbrudd ble predikert å gjøre det.\n",
    "\n",
    "De to sannsynligheten er relatert med Bayes setning.  "
   ]
  },
  {
   "cell_type": "code",
   "execution_count": 12,
   "metadata": {},
   "outputs": [
    {
     "name": "stdout",
     "output_type": "stream",
     "text": [
      "Alle\n"
     ]
    },
    {
     "data": {
      "text/html": [
       "<table border=\"1\" class=\"dataframe\">\n",
       "  <thead>\n",
       "    <tr style=\"text-align: right;\">\n",
       "      <th></th>\n",
       "      <th>Ikke gjentatt</th>\n",
       "      <th>Gjentatt lovbrudd</th>\n",
       "    </tr>\n",
       "  </thead>\n",
       "  <tbody>\n",
       "    <tr>\n",
       "      <th>Ikke predikert</th>\n",
       "      <td>36.4%</td>\n",
       "      <td>19.0%</td>\n",
       "    </tr>\n",
       "    <tr>\n",
       "      <th>Predikert</th>\n",
       "      <td>15.1%</td>\n",
       "      <td>29.4%</td>\n",
       "    </tr>\n",
       "  </tbody>\n",
       "</table>"
      ],
      "text/plain": [
       "<IPython.core.display.HTML object>"
      ]
     },
     "metadata": {},
     "output_type": "display_data"
    },
    {
     "name": "stdout",
     "output_type": "stream",
     "text": [
      "Pos. pred. verdi: 66.0%\n",
      "    Sensitivitet: 60.8%\n",
      "\n",
      "Hvite\n"
     ]
    },
    {
     "data": {
      "text/html": [
       "<table border=\"1\" class=\"dataframe\">\n",
       "  <thead>\n",
       "    <tr style=\"text-align: right;\">\n",
       "      <th></th>\n",
       "      <th>Ikke gjentatt</th>\n",
       "      <th>Gjentatt lovbrudd</th>\n",
       "    </tr>\n",
       "  </thead>\n",
       "  <tbody>\n",
       "    <tr>\n",
       "      <th>Ikke predikert</th>\n",
       "      <td>45.8%</td>\n",
       "      <td>21.1%</td>\n",
       "    </tr>\n",
       "    <tr>\n",
       "      <th>Predikert</th>\n",
       "      <td>12.6%</td>\n",
       "      <td>20.4%</td>\n",
       "    </tr>\n",
       "  </tbody>\n",
       "</table>"
      ],
      "text/plain": [
       "<IPython.core.display.HTML object>"
      ]
     },
     "metadata": {},
     "output_type": "display_data"
    },
    {
     "name": "stdout",
     "output_type": "stream",
     "text": [
      "Pos. pred. verdi: 61.8%\n",
      "    Sensitivitet: 49.2%\n",
      "\n",
      "Ikke-hvite\n"
     ]
    },
    {
     "data": {
      "text/html": [
       "<table border=\"1\" class=\"dataframe\">\n",
       "  <thead>\n",
       "    <tr style=\"text-align: right;\">\n",
       "      <th></th>\n",
       "      <th>Ikke gjentatt</th>\n",
       "      <th>Gjentatt lovbrudd</th>\n",
       "    </tr>\n",
       "  </thead>\n",
       "  <tbody>\n",
       "    <tr>\n",
       "      <th>Ikke predikert</th>\n",
       "      <td>31.6%</td>\n",
       "      <td>17.9%</td>\n",
       "    </tr>\n",
       "    <tr>\n",
       "      <th>Predikert</th>\n",
       "      <td>16.4%</td>\n",
       "      <td>34.1%</td>\n",
       "    </tr>\n",
       "  </tbody>\n",
       "</table>"
      ],
      "text/plain": [
       "<IPython.core.display.HTML object>"
      ]
     },
     "metadata": {},
     "output_type": "display_data"
    },
    {
     "name": "stdout",
     "output_type": "stream",
     "text": [
      "Pos. pred. verdi: 67.5%\n",
      "    Sensitivitet: 65.5%\n",
      "\n",
      "Menn\n"
     ]
    },
    {
     "data": {
      "text/html": [
       "<table border=\"1\" class=\"dataframe\">\n",
       "  <thead>\n",
       "    <tr style=\"text-align: right;\">\n",
       "      <th></th>\n",
       "      <th>Ikke gjentatt</th>\n",
       "      <th>Gjentatt lovbrudd</th>\n",
       "    </tr>\n",
       "  </thead>\n",
       "  <tbody>\n",
       "    <tr>\n",
       "      <th>Ikke predikert</th>\n",
       "      <td>34.6%</td>\n",
       "      <td>19.9%</td>\n",
       "    </tr>\n",
       "    <tr>\n",
       "      <th>Predikert</th>\n",
       "      <td>14.3%</td>\n",
       "      <td>31.2%</td>\n",
       "    </tr>\n",
       "  </tbody>\n",
       "</table>"
      ],
      "text/plain": [
       "<IPython.core.display.HTML object>"
      ]
     },
     "metadata": {},
     "output_type": "display_data"
    },
    {
     "name": "stdout",
     "output_type": "stream",
     "text": [
      "Pos. pred. verdi: 68.6%\n",
      "    Sensitivitet: 61.1%\n",
      "\n",
      "Kvinner\n"
     ]
    },
    {
     "data": {
      "text/html": [
       "<table border=\"1\" class=\"dataframe\">\n",
       "  <thead>\n",
       "    <tr style=\"text-align: right;\">\n",
       "      <th></th>\n",
       "      <th>Ikke gjentatt</th>\n",
       "      <th>Gjentatt lovbrudd</th>\n",
       "    </tr>\n",
       "  </thead>\n",
       "  <tbody>\n",
       "    <tr>\n",
       "      <th>Ikke predikert</th>\n",
       "      <td>44.3%</td>\n",
       "      <td>15.2%</td>\n",
       "    </tr>\n",
       "    <tr>\n",
       "      <th>Predikert</th>\n",
       "      <td>18.7%</td>\n",
       "      <td>21.8%</td>\n",
       "    </tr>\n",
       "  </tbody>\n",
       "</table>"
      ],
      "text/plain": [
       "<IPython.core.display.HTML object>"
      ]
     },
     "metadata": {},
     "output_type": "display_data"
    },
    {
     "name": "stdout",
     "output_type": "stream",
     "text": [
      "Pos. pred. verdi: 53.8%\n",
      "    Sensitivitet: 58.9%\n"
     ]
    }
   ],
   "source": [
    "def conditional_prob(df):\n",
    "    a = pd.DataFrame({\n",
    "        \"Ikke gjentatt\": df[~df.actual].predicted.value_counts().sort_index(),\n",
    "        \"Gjentatt lovbrudd\": df[df.actual].predicted.value_counts().sort_index()\n",
    "    }).rename({False: \"Ikke predikert\", True: \"Predikert\"}) / len(df)\n",
    "    display_df_pct(a)\n",
    "    pos_pred = a[\"Gjentatt lovbrudd\"][\"Predikert\"] / a.loc[\"Predikert\"].sum()\n",
    "    print(f\"Pos. pred. verdi: {pos_pred*100:.1f}%\")\n",
    "    sens = a[\"Gjentatt lovbrudd\"][\"Predikert\"] / a[\"Gjentatt lovbrudd\"].sum()\n",
    "    print(f\"    Sensitivitet: {sens*100:.1f}%\")\n",
    "    \n",
    "print(\"Alle\")\n",
    "conditional_prob(df)\n",
    "\n",
    "print(\"\\nHvite\")\n",
    "conditional_prob(df[df.white])\n",
    "\n",
    "print(\"\\nIkke-hvite\")\n",
    "conditional_prob(df[~df.white])\n",
    "\n",
    "print(\"\\nMenn\")\n",
    "conditional_prob(df[df.sex == 'Male'])\n",
    "\n",
    "print(\"\\nKvinner\")\n",
    "conditional_prob(df[df.sex == 'Female'])"
   ]
  },
  {
   "cell_type": "markdown",
   "metadata": {},
   "source": [
    "Interessant blant disse tallene er at sensitiviteten blant hvite (49,2%) er mye lavere enn blant ikke-hvite (65,5%). Dette betyr at flere hvite som begikk nye lovbrudd ikke ble predikert å skulle gjøre det enn svarte.\n",
    "Det er også verdt å merke at kvinner har betraktelig lavere positiv prediktiv verdi (53,8%) enn alle (66%), som betyr at flere kvinner som ble predikert å begå nye lovbrudd ikke endte med å gjøre det, enn de andre gruppene.\n",
    "\n",
    "KAN si noe om hvorvidt falske positive er mer alvorlig enn falske negative, også i amerikansk sammenheng som i utgangspunktet er opptatt av invididet. Type 1 og type 2 feil?"
   ]
  },
  {
   "cell_type": "markdown",
   "metadata": {},
   "source": [
    "# Predikere prediksjonen"
   ]
  },
  {
   "cell_type": "markdown",
   "metadata": {},
   "source": [
    "Vi trener en logistisk modell for å se hvilken vekt som blir tilegnet predikatoren som indikerer \"African-American\"."
   ]
  },
  {
   "cell_type": "code",
   "execution_count": 13,
   "metadata": {},
   "outputs": [
    {
     "name": "stdout",
     "output_type": "stream",
     "text": [
      "[[ 0.26841574  0.68318404 -1.34534445  1.30150177  0.47767854 -0.20805671\n",
      "  -0.42133031  0.8956289  -0.80592196  0.2188144  -0.30988952]]\n",
      "[-1.52332792]\n"
     ]
    }
   ],
   "source": [
    "from sklearn.linear_model import LogisticRegression\n",
    "import numpy as np\n",
    "\n",
    "categorical_cols = [\"age_cat\", \"race\", \"sex\", \"c_charge_degree\"]\n",
    "X = data[[\"age_cat\", \"race\", \"sex\", \"priors_count\", \"c_charge_degree\", \"two_year_recid\"]]\n",
    "X = pd.get_dummies(X, columns=categorical_cols, prefix=categorical_cols, prefix_sep='_')\n",
    "X = X.drop([\"age_cat_25 - 45\", \"race_Caucasian\", \"sex_Male\", \"c_charge_degree_F\"], axis=1)\n",
    "\n",
    "Y = data[\"score_text\"] != \"Low\"\n",
    "\n",
    "model = LogisticRegression(max_iter=1000)\n",
    "model.fit(X, Y)\n",
    "\n",
    "print(model.coef_)\n",
    "print(model.intercept_)"
   ]
  },
  {
   "cell_type": "markdown",
   "metadata": {},
   "source": [
    "Med alle vektene og bias, kalkulerer vi bias mot \"African-American\" som gruppe, ved å sammenlikne en idealisert person som kun har egenskapen å være \"African-American\" mot en person som ikke har noen egenskaper."
   ]
  },
  {
   "cell_type": "code",
   "execution_count": 14,
   "metadata": {},
   "outputs": [
    {
     "data": {
      "text/plain": [
       "1.4530844530784157"
      ]
     },
     "execution_count": 14,
     "metadata": {},
     "output_type": "execute_result"
    }
   ],
   "source": [
    "black_coef = model.coef_[0, list(X.columns).index('race_African-American')]\n",
    "intercept = model.intercept_[0]\n",
    "\n",
    "control = 1/(1+np.exp(-intercept))\n",
    "racialBias = np.exp(black_coef) / (1 + control * (np.exp(black_coef) - 1))\n",
    "racialBias"
   ]
  },
  {
   "cell_type": "code",
   "execution_count": null,
   "metadata": {},
   "outputs": [],
   "source": []
  },
  {
   "cell_type": "markdown",
   "metadata": {},
   "source": [
    "Tallet forteller oss at det å være \"African-American\" gir en 45% større sjanse for å bli predikert å begå nye lovbrudd, enn en "
   ]
  },
  {
   "cell_type": "code",
   "execution_count": 15,
   "metadata": {},
   "outputs": [
    {
     "name": "stdout",
     "output_type": "stream",
     "text": [
      "Index(['priors_count', 'two_year_recid', 'age_cat_Greater than 45',\n",
      "       'age_cat_Less than 25', 'race_African-American', 'race_Asian',\n",
      "       'race_Hispanic', 'race_Native American', 'race_Other', 'sex_Female',\n",
      "       'c_charge_degree_M'],\n",
      "      dtype='object')\n"
     ]
    }
   ],
   "source": [
    "print(X.columns)"
   ]
  },
  {
   "cell_type": "code",
   "execution_count": 21,
   "metadata": {},
   "outputs": [
    {
     "data": {
      "image/png": "[encoded data removed]",
      "text/plain": [
       "<Figure size 1080x432 with 3 Axes>"
      ]
     },
     "metadata": {
      "needs_background": "light"
     },
     "output_type": "display_data"
    }
   ],
   "source": [
    "from sklearn.inspection import plot_partial_dependence\n",
    "import matplotlib.pyplot as plt\n",
    "features = [\"priors_count\", \"c_charge_degree_M\"]\n",
    "plot_partial_dependence(model, X, features)\n",
    "plt.gcf().set_size_inches(15, 6)\n",
    "plt.show()"
   ]
  },
  {
   "cell_type": "markdown",
   "metadata": {},
   "source": [
    "Observerer hvordan scorens avhengighet av priors_count økter eksponsielt. "
   ]
  },
  {
   "cell_type": "code",
   "execution_count": 19,
   "metadata": {},
   "outputs": [
    {
     "data": {
      "image/png": "[encoded data removed]",
      "text/plain": [
       "<Figure size 1080x432 with 3 Axes>"
      ]
     },
     "metadata": {
      "needs_background": "light"
     },
     "output_type": "display_data"
    }
   ],
   "source": [
    "features = [\"sex_Female\", \"two_year_recid\"]\n",
    "plot_partial_dependence(model, X, features)\n",
    "plt.gcf().set_size_inches(15, 6)"
   ]
  },
  {
   "cell_type": "code",
   "execution_count": null,
   "metadata": {},
   "outputs": [],
   "source": []
  },
  {
   "cell_type": "code",
   "execution_count": null,
   "metadata": {},
   "outputs": [],
   "source": []
  },
  {
   "cell_type": "code",
   "execution_count": null,
   "metadata": {},
   "outputs": [],
   "source": []
  },
  {
   "cell_type": "code",
   "execution_count": null,
   "metadata": {},
   "outputs": [],
   "source": []
  }
 ],
 "metadata": {
  "kernelspec": {
   "display_name": "Python 3",
   "language": "python",
   "name": "python3"
  },
  "language_info": {
   "codemirror_mode": {
    "name": "ipython",
    "version": 3
   },
   "file_extension": ".py",
   "mimetype": "text/x-python",
   "name": "python",
   "nbconvert_exporter": "python",
   "pygments_lexer": "ipython3",
   "version": "3.8.5"
  }
 },
 "nbformat": 4,
 "nbformat_minor": 5
}
