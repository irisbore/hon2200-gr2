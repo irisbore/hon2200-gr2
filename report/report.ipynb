{
 "cells": [
  {
   "cell_type": "markdown",
   "id": "minor-treat",
   "metadata": {},
   "source": [
    "# COMPAS "
   ]
  },
  {
   "cell_type": "markdown",
   "id": "hourly-least",
   "metadata": {},
   "source": [
    "COMPAS er en algoritme utvikla for å anslå hvor trolig det er at en sikta person vil begå nye straffbare handlinger, og brukes utbredt i amerikansk rettvesen. Da nettavisen ProPublica i 2016 tok for seg ulike deler av algoritmen, synes det gjennomgående at algoritmen på bakgrunn av etnisitet ga hvite et lavere risikoanslag enn svarte. Vi skal i denne analysen ta for oss ulike deler av algoritmen gjennom å reprodusere resultatene til ProPublica. I den tilhørende etiske rapporten diskuterer vi behovet og det etiske grunnlaget for en slik algoritme."
   ]
  },
  {
   "cell_type": "markdown",
   "id": "acquired-crystal",
   "metadata": {},
   "source": [
    "## Datasettet\n",
    "\n",
    "ProPublica hentet data om innsatte i Broward County, Florida, USA, og gjorde sin analyse av COMPAS basert på denne dataen. ProPublica har gjort dette datasettet fritt tilgjengelig, og det er det vi bruker i vår analyse.\n",
    "\n",
    "Vi omformer kolonnene i datasettet noe, og ender opp med følgende kolonner som relevante for vår analyse:\n",
    " - Kolonnen `sex` angir kjønnet til personen \n",
    " - Kolonnen `white` angir om personen er \"hvit\" eller ikke, hvor vi definerer hvit som gruppen \"Caucasian\" i det originale datasettet\n",
    " - Kolonnen `score` gir scoren som COMPAS ga personen\n",
    " - Kolonnen `predicted` indikerer om COMPAS predikerte personen til å begå nye lovbrudd\n",
    " - Kolonnen `actual` indikerer om personen faktisk begikk nye lovbrudd\n",
    "\n",
    "For å skille på etnisitet har vi valgt å forholde oss til gruppene \"hvite\" og \"ikke-hvite\". Dette skillet er lett å forholde seg til, og unngår problemer med nyanser og at noen tilfeller kan \"falle mellom to stoler\". Vi får også på denne måten brukt hele datasettet."
   ]
  },
  {
   "cell_type": "code",
   "execution_count": 1,
   "id": "hindu-white",
   "metadata": {},
   "outputs": [
    {
     "data": {
      "text/html": [
       "<div>\n",
       "<style scoped>\n",
       "    .dataframe tbody tr th:only-of-type {\n",
       "        vertical-align: middle;\n",
       "    }\n",
       "\n",
       "    .dataframe tbody tr th {\n",
       "        vertical-align: top;\n",
       "    }\n",
       "\n",
       "    .dataframe thead th {\n",
       "        text-align: right;\n",
       "    }\n",
       "</style>\n",
       "<table border=\"1\" class=\"dataframe\">\n",
       "  <thead>\n",
       "    <tr style=\"text-align: right;\">\n",
       "      <th></th>\n",
       "      <th>sex</th>\n",
       "      <th>white</th>\n",
       "      <th>score</th>\n",
       "      <th>predicted</th>\n",
       "      <th>actual</th>\n",
       "    </tr>\n",
       "  </thead>\n",
       "  <tbody>\n",
       "    <tr>\n",
       "      <th>0</th>\n",
       "      <td>Male</td>\n",
       "      <td>False</td>\n",
       "      <td>1</td>\n",
       "      <td>False</td>\n",
       "      <td>False</td>\n",
       "    </tr>\n",
       "    <tr>\n",
       "      <th>1</th>\n",
       "      <td>Male</td>\n",
       "      <td>False</td>\n",
       "      <td>3</td>\n",
       "      <td>False</td>\n",
       "      <td>True</td>\n",
       "    </tr>\n",
       "    <tr>\n",
       "      <th>2</th>\n",
       "      <td>Male</td>\n",
       "      <td>False</td>\n",
       "      <td>4</td>\n",
       "      <td>False</td>\n",
       "      <td>True</td>\n",
       "    </tr>\n",
       "    <tr>\n",
       "      <th>5</th>\n",
       "      <td>Male</td>\n",
       "      <td>False</td>\n",
       "      <td>1</td>\n",
       "      <td>False</td>\n",
       "      <td>False</td>\n",
       "    </tr>\n",
       "    <tr>\n",
       "      <th>6</th>\n",
       "      <td>Male</td>\n",
       "      <td>True</td>\n",
       "      <td>6</td>\n",
       "      <td>True</td>\n",
       "      <td>True</td>\n",
       "    </tr>\n",
       "    <tr>\n",
       "      <th>...</th>\n",
       "      <td>...</td>\n",
       "      <td>...</td>\n",
       "      <td>...</td>\n",
       "      <td>...</td>\n",
       "      <td>...</td>\n",
       "    </tr>\n",
       "    <tr>\n",
       "      <th>7209</th>\n",
       "      <td>Male</td>\n",
       "      <td>False</td>\n",
       "      <td>7</td>\n",
       "      <td>True</td>\n",
       "      <td>False</td>\n",
       "    </tr>\n",
       "    <tr>\n",
       "      <th>7210</th>\n",
       "      <td>Male</td>\n",
       "      <td>False</td>\n",
       "      <td>3</td>\n",
       "      <td>False</td>\n",
       "      <td>False</td>\n",
       "    </tr>\n",
       "    <tr>\n",
       "      <th>7211</th>\n",
       "      <td>Male</td>\n",
       "      <td>False</td>\n",
       "      <td>1</td>\n",
       "      <td>False</td>\n",
       "      <td>False</td>\n",
       "    </tr>\n",
       "    <tr>\n",
       "      <th>7212</th>\n",
       "      <td>Female</td>\n",
       "      <td>False</td>\n",
       "      <td>2</td>\n",
       "      <td>False</td>\n",
       "      <td>False</td>\n",
       "    </tr>\n",
       "    <tr>\n",
       "      <th>7213</th>\n",
       "      <td>Female</td>\n",
       "      <td>False</td>\n",
       "      <td>4</td>\n",
       "      <td>False</td>\n",
       "      <td>True</td>\n",
       "    </tr>\n",
       "  </tbody>\n",
       "</table>\n",
       "<p>6172 rows × 5 columns</p>\n",
       "</div>"
      ],
      "text/plain": [
       "         sex  white  score  predicted  actual\n",
       "0       Male  False      1      False   False\n",
       "1       Male  False      3      False    True\n",
       "2       Male  False      4      False    True\n",
       "5       Male  False      1      False   False\n",
       "6       Male   True      6       True    True\n",
       "...      ...    ...    ...        ...     ...\n",
       "7209    Male  False      7       True   False\n",
       "7210    Male  False      3      False   False\n",
       "7211    Male  False      1      False   False\n",
       "7212  Female  False      2      False   False\n",
       "7213  Female  False      4      False    True\n",
       "\n",
       "[6172 rows x 5 columns]"
      ]
     },
     "execution_count": 1,
     "metadata": {},
     "output_type": "execute_result"
    }
   ],
   "source": [
    "import pandas as pd\n",
    "import matplotlib.ticker as mtick\n",
    "from IPython.core.display import display, HTML\n",
    "\n",
    "def display_df_pct(df):\n",
    "    display(HTML(df.to_html(float_format=lambda x: f'{x*100:.1f}%')))\n",
    "\n",
    "data = pd.read_csv(\"../data/compas-scores-two-years.csv\")\n",
    "data = data[data[\"days_b_screening_arrest\"] <= 30]\n",
    "data = data[data[\"days_b_screening_arrest\"] >= -30]\n",
    "df = pd.DataFrame({ \n",
    "    \"sex\": data.sex,\n",
    "    \"white\": data.race == \"Caucasian\",\n",
    "    \"score\": data.decile_score,\n",
    "    \"predicted\": data.score_text != \"Low\",\n",
    "    \"actual\": data.is_recid == 1\n",
    "})\n",
    "df"
   ]
  },
  {
   "cell_type": "markdown",
   "id": "convinced-raise",
   "metadata": {},
   "source": [
    "## Predikerte og faktisk gjentatte forbrytelser\n",
    "\n",
    "For å få oversikt over hvor ofte ulike grupper faktisk gjorde nye lovbrudd og blir predikert å begå nye lovbrudd lager vi firefeltstabeller. Tabellene gir en pekepinn på hvor presis algoritmen er, og hvordan den behandler ulike grupper ulikt.\n",
    "\n",
    "I firefeltstabellen har vi rader for gruppa vi ser på og resten av datasettet, og kolonner for hvor stor andel av tilfellene i hver gruppe som blir predikert å begå nye lovbrudd og hvor stor andel av tilfellene som faktisk begår nye lovbrudd."
   ]
  },
  {
   "cell_type": "code",
   "execution_count": 2,
   "id": "about-median",
   "metadata": {},
   "outputs": [],
   "source": [
    "def get_relative_frequency(group, target):\n",
    "    group_size = len(df[group])\n",
    "    target_size = len(df[group & target])\n",
    "    rel_freq = target_size/group_size\n",
    "    return f'{rel_freq*100:.1f}%'\n",
    "\n",
    "def four_field_table(group, group_name, rest_name):\n",
    "    return pd.DataFrame({\n",
    "        \"Predikert\": [get_relative_frequency(group, df.predicted), get_relative_frequency(~group, df.predicted)],\n",
    "        \"Faktisk\": [get_relative_frequency(group, df.actual), get_relative_frequency(~group, df.actual)],\n",
    "    }, index = [group_name, rest_name])"
   ]
  },
  {
   "cell_type": "markdown",
   "id": "living-trace",
   "metadata": {},
   "source": [
    "### Predikerte og faktisk gjentatte forbrytelser etter etnisitet"
   ]
  },
  {
   "cell_type": "code",
   "execution_count": 3,
   "id": "endless-leeds",
   "metadata": {},
   "outputs": [
    {
     "data": {
      "text/html": [
       "<div>\n",
       "<style scoped>\n",
       "    .dataframe tbody tr th:only-of-type {\n",
       "        vertical-align: middle;\n",
       "    }\n",
       "\n",
       "    .dataframe tbody tr th {\n",
       "        vertical-align: top;\n",
       "    }\n",
       "\n",
       "    .dataframe thead th {\n",
       "        text-align: right;\n",
       "    }\n",
       "</style>\n",
       "<table border=\"1\" class=\"dataframe\">\n",
       "  <thead>\n",
       "    <tr style=\"text-align: right;\">\n",
       "      <th></th>\n",
       "      <th>Predikert</th>\n",
       "      <th>Faktisk</th>\n",
       "    </tr>\n",
       "  </thead>\n",
       "  <tbody>\n",
       "    <tr>\n",
       "      <th>Hvite</th>\n",
       "      <td>33.1%</td>\n",
       "      <td>41.6%</td>\n",
       "    </tr>\n",
       "    <tr>\n",
       "      <th>Ikke-hvite</th>\n",
       "      <td>50.5%</td>\n",
       "      <td>52.0%</td>\n",
       "    </tr>\n",
       "  </tbody>\n",
       "</table>\n",
       "</div>"
      ],
      "text/plain": [
       "           Predikert Faktisk\n",
       "Hvite          33.1%   41.6%\n",
       "Ikke-hvite     50.5%   52.0%"
      ]
     },
     "execution_count": 3,
     "metadata": {},
     "output_type": "execute_result"
    }
   ],
   "source": [
    "four_field_table(df.white, \"Hvite\", \"Ikke-hvite\")"
   ]
  },
  {
   "cell_type": "markdown",
   "id": "billion-prediction",
   "metadata": {},
   "source": [
    "### Predikerte og faktisk gjentatte forbrytelser etter kjønn"
   ]
  },
  {
   "cell_type": "code",
   "execution_count": 4,
   "id": "political-journalist",
   "metadata": {},
   "outputs": [
    {
     "data": {
      "text/html": [
       "<div>\n",
       "<style scoped>\n",
       "    .dataframe tbody tr th:only-of-type {\n",
       "        vertical-align: middle;\n",
       "    }\n",
       "\n",
       "    .dataframe tbody tr th {\n",
       "        vertical-align: top;\n",
       "    }\n",
       "\n",
       "    .dataframe thead th {\n",
       "        text-align: right;\n",
       "    }\n",
       "</style>\n",
       "<table border=\"1\" class=\"dataframe\">\n",
       "  <thead>\n",
       "    <tr style=\"text-align: right;\">\n",
       "      <th></th>\n",
       "      <th>Predikert</th>\n",
       "      <th>Faktisk</th>\n",
       "    </tr>\n",
       "  </thead>\n",
       "  <tbody>\n",
       "    <tr>\n",
       "      <th>Menn</th>\n",
       "      <td>45.5%</td>\n",
       "      <td>51.1%</td>\n",
       "    </tr>\n",
       "    <tr>\n",
       "      <th>Kvinner</th>\n",
       "      <td>40.5%</td>\n",
       "      <td>37.0%</td>\n",
       "    </tr>\n",
       "  </tbody>\n",
       "</table>\n",
       "</div>"
      ],
      "text/plain": [
       "        Predikert Faktisk\n",
       "Menn        45.5%   51.1%\n",
       "Kvinner     40.5%   37.0%"
      ]
     },
     "execution_count": 4,
     "metadata": {},
     "output_type": "execute_result"
    }
   ],
   "source": [
    "four_field_table(df.sex == 'Male', \"Menn\", \"Kvinner\")"
   ]
  },
  {
   "cell_type": "markdown",
   "id": "current-seven",
   "metadata": {},
   "source": [
    "Fra de to tabellene ser vi at det blant hvite er 8 prosentpoeng færre som blir predikert å begå nye lovbrudd enn som faktisk gjør det.\n",
    "Det tilsvarende tallet for ikke-hvite er kun 2 prosentpoeng.\n",
    "For menn er det 6 prosentpoeng, og for kvinner -4 prosentpoeng.\n",
    "\n",
    "Dette tyder på en \"overprediksjon\" for kvinner og betraktelig større \"underprediksjon\" for hvite enn ikke-hvite."
   ]
  },
  {
   "cell_type": "markdown",
   "id": "sublime-camera",
   "metadata": {},
   "source": [
    "## Fordeling av predikert risiko\n",
    "\n",
    "COMPAS-algoritmen gir i utgangspunktet ikke en binær prediksjon, men en score mellom 1 og 10 som indikerer risiko for at personen vil begå nye lovbrudd. Vi ser på fordelingen av score i forskjellige inndelinger. Dette gir et bedre innblikk i hva algoritmen faktisk predikerer enn i firefeltstabellene ovenfor."
   ]
  },
  {
   "cell_type": "code",
   "execution_count": 5,
   "id": "floating-evolution",
   "metadata": {},
   "outputs": [],
   "source": [
    "def plot_score_dist(df, title, group, group_name, rest_name, all_name = 'Alle'):\n",
    "    ax = pd.DataFrame({\n",
    "        all_name: df.score.value_counts(normalize = True),\n",
    "        group_name: df[group].score.value_counts(normalize = True),\n",
    "        rest_name: df[~group].score.value_counts(normalize = True)\n",
    "    }).sort_index().plot.bar(title = title, style = {all_name: \"k--\"})\n",
    "    ax.yaxis.set_major_formatter(mtick.PercentFormatter(xmax=1.0))\n"
   ]
  },
  {
   "cell_type": "markdown",
   "id": "molecular-laser",
   "metadata": {},
   "source": [
    "### Fordeling av score etter etnisitet"
   ]
  },
  {
   "cell_type": "code",
   "execution_count": 6,
   "id": "infectious-corps",
   "metadata": {},
   "outputs": [
    {
     "data": {
      "image/png": "[encoded data removed]",
      "text/plain": [
       "<Figure size 432x288 with 1 Axes>"
      ]
     },
     "metadata": {
      "needs_background": "light"
     },
     "output_type": "display_data"
    }
   ],
   "source": [
    "plot_score_dist(df, \"Score etter etnisitet\", df.white, \"Hvite\", \"Ikke-hvite\")"
   ]
  },
  {
   "cell_type": "markdown",
   "id": "caring-cargo",
   "metadata": {},
   "source": [
    "Vi ser at blant hvite (de oransje søylene) er det nesten 30% som får score 1, og en sterkt avtagende tendens for høyere scorer. Fra score 5 ligger hvite under snittet for hele datasettet.\n",
    "\n",
    "For ikke-hvite (de grønne søyelen) ser vi motsatt tendens. For score 1 til 5 er andel av ikke-hvite lavere enn andelen av hele datasettet for hver score. Fra score 6 til 10 er andelen konsekvent høyere. Grovt kan vi altså si at ikke-hvite i mindre grad får lavere scorer og i større grad får høyere scorer."
   ]
  },
  {
   "cell_type": "markdown",
   "id": "structural-invasion",
   "metadata": {},
   "source": [
    "### Fordeling av score etter kjønn"
   ]
  },
  {
   "cell_type": "code",
   "execution_count": 7,
   "id": "classical-islam",
   "metadata": {},
   "outputs": [
    {
     "data": {
      "image/png": "[encoded data removed]",
      "text/plain": [
       "<Figure size 432x288 with 1 Axes>"
      ]
     },
     "metadata": {
      "needs_background": "light"
     },
     "output_type": "display_data"
    }
   ],
   "source": [
    "plot_score_dist(df, \"Score etter kjønn\", df.sex == 'Male', \"Menn\", \"Kvinner\")"
   ]
  },
  {
   "cell_type": "markdown",
   "id": "controversial-sociology",
   "metadata": {},
   "source": [
    "Fordelt på kjønn er forskjellene mye mindre enn vi så med etnisitet."
   ]
  },
  {
   "cell_type": "markdown",
   "id": "median-wings",
   "metadata": {},
   "source": [
    "### Fordeling av score etter gjentatt forbrytelse"
   ]
  },
  {
   "cell_type": "code",
   "execution_count": 8,
   "id": "smooth-undergraduate",
   "metadata": {},
   "outputs": [
    {
     "data": {
      "image/png": "[encoded data removed]",
      "text/plain": [
       "<Figure size 432x288 with 1 Axes>"
      ]
     },
     "metadata": {
      "needs_background": "light"
     },
     "output_type": "display_data"
    }
   ],
   "source": [
    "plot_score_dist(df, \"Score etter gjentatt forbrytelse\", df.actual, \"Nye lovbrudd\", \"Ikke nye lovbrudd\")"
   ]
  },
  {
   "cell_type": "markdown",
   "id": "quiet-december",
   "metadata": {},
   "source": [
    "I dette diagrammet ser vi på fordelingen av score gruppert etter om personene faktisk endte med å begå nye lovbrudd i løpet av to år etter algoritmens prediksjon. Vi ser altså på data som ikke er tilgjenglig mens algoritmen er i bruk.\n",
    "\n",
    "For person som ikke gjorde nye lovbrudd (grønn),  ser vi en tydelig avtakende tendens mot høyrer scorer. Dette stemmer godt med det man ville forvente å se i en presis algoritme."
   ]
  },
  {
   "cell_type": "markdown",
   "id": "adopted-invalid",
   "metadata": {},
   "source": [
    "### Fordeling av score etter gjentatte forbrytelser og etnisitet"
   ]
  },
  {
   "cell_type": "code",
   "execution_count": 23,
   "id": "sacred-madonna",
   "metadata": {},
   "outputs": [
    {
     "data": {
      "image/png": "[encoded data removed]",
      "text/plain": [
       "<Figure size 432x288 with 1 Axes>"
      ]
     },
     "metadata": {
      "needs_background": "light"
     },
     "output_type": "display_data"
    },
    {
     "data": {
      "image/png": "[encoded data removed]",
      "text/plain": [
       "<Figure size 432x288 with 1 Axes>"
      ]
     },
     "metadata": {
      "needs_background": "light"
     },
     "output_type": "display_data"
    }
   ],
   "source": [
    "df_white = df[df.white]\n",
    "plot_score_dist(df_white, \"Score etter gjentatt forbrytelser, kun hvite\", df_white.actual, \"Nye lovbrudd\", \"Ikke nye lovbrudd\", \"Alle hvite\")\n",
    "df_non_white = df[~df.white]\n",
    "plot_score_dist(df_non_white, \"Score etter gjentatt forbrytelser, kun ikke-hvite\", df_non_white.actual, \"Nye lovbrudd\", \"Ikke nye lovbrudd\", \"Alle ikke-hvite\")"
   ]
  },
  {
   "cell_type": "markdown",
   "id": "beneficial-prison",
   "metadata": {},
   "source": [
    "Legg merke til at y-akesene er forskjellige. Blant hvite ser vi at over 35% av de som ikke begikk nye lovbrudd fikk laveste score, blant ikke-hvite var denne andelen kun 25%. For ikke-hvite er andelen som får hver av scorene 6 til 10 av de som begikk nye lovbrudd rett over 10%. Dette speiles ikke blant hvite - der er andelen 10% som får score 6, men fra 7 og utover er andelen dalende. Dette tyder igjen på en negativ favorisering av ikke-hvite."
   ]
  },
  {
   "cell_type": "markdown",
   "id": "otherwise-captain",
   "metadata": {},
   "source": [
    "## Betinget sannsynlighet\n",
    "\n",
    "I steden for å kun se på andeler, kan vi gjøre sannsynlighetsberegninger basert på dataen vår. Vi vil være interessert i positiv prediktiv verdi og sensitivitet.\n",
    "\n",
    "Positiv prediktiv verdi er sannsynligheten for at en person som ble predikert å begå nye lovbrudd faktisk begår nye lovbrudd.Sensitivitet er det \"motsatte\": sannsynligheten for at en person som faktisk begikk nye lovbrudd ble predikert å gjøre det.\n",
    "\n",
    "For rettsvernet og enkeltmennesket kan det tenkes at den positive prediktive verdien bør veie tyngre enn sensitiviteten. (Vi ønsker ikke en algoritme som dømmer uskyldige mennesker.)\n",
    "Samtidig må samfunnssikkerheten også vurderes: ved å øke sensitiviteten beskytter vi trolig innbyggerne mot kriminalitet. \n",
    "\n",
    "For å regne på sammenhengen mellom positiv prediktiv verdi og sensitivitet ser vi på de matematiske definisjonene.\n",
    "$$\n",
    "\\begin{align}\n",
    "A &= \\textrm {Tilbakefall} \\\\\n",
    "B &= \\textrm {Predikert tilbakefall} \\\\ \n",
    "\\textrm {Positiv prediktiv verdi} &= P(A | B) \\\\\n",
    "\\textrm {Sensitivitet} &= P(B | A) \\\\\n",
    "\\end{align}\n",
    "$$\n",
    "\n",
    "Vi kan bruke Bayes setning for å se hvordan de to sannsynlighetene virker sammen:\n",
    "$$\n",
    "\\begin{align}\n",
    "P(A | B) &= \\frac{P(B | A) \\cdot P(A)} {P(B)} \\\\\n",
    "P(B | A) &= \\frac{P(A | B) \\cdot P(B)} {P(A)}\n",
    "\\end{align}\n",
    "$$\n",
    "\n",
    "En presis algoritme vil både få høy positiv prediktiv verdi og sensitivitet. Den beste måten å øke disse verdiene er derfor å utvikle en mer presis algoritme. En annen mulighet er likevel å endre hvilken score man begynner å predikere positiv eller negativ verdi for. Ved å predikere flere til å begå nye lovbrudd ved lavere score (tilsvarer høyere $B$), kan vi lese fra Bayes setning at sensitiviteten vil bli høyere, men den positive prediktive verdien vli bli tilsvarende lavere.\n",
    "\n",
    "På samme måte kan vi flytte prediksjonen til høyere score (tilsvarer lavere $B$) for å få høyere positiv prediktiv verdi, men får da også lavere sensitivitet. Vi må altså bestemme hvor vi går fra negative til positive prediksjoner ved å balansere den positive prediktive verdien mot sensitiviteten. \n",
    "\n",
    "Vi ser nå på positiv prediktiv verdi og sensitivitete blant gruppene vi har studert tidligere. Samtidig lager vi firefeltstabeller som gir verdiene for sanne og falske negative og positive."
   ]
  },
  {
   "cell_type": "code",
   "execution_count": 11,
   "id": "aggregate-glenn",
   "metadata": {},
   "outputs": [],
   "source": [
    "def conditional_prob(df):\n",
    "    a = pd.DataFrame({\n",
    "        \"Ikke gjentatt\": df[~df.actual].predicted.value_counts().sort_index(),\n",
    "        \"Gjentatt lovbrudd\": df[df.actual].predicted.value_counts().sort_index()\n",
    "    }).rename({False: \"Ikke predikert\", True: \"Predikert\"}) / len(df)\n",
    "    display_df_pct(a)\n",
    "    pos_pred = a[\"Gjentatt lovbrudd\"][\"Predikert\"] / a.loc[\"Predikert\"].sum()\n",
    "    print(f\"Pos. pred. verdi: {pos_pred*100:.1f}%\")\n",
    "    sens = a[\"Gjentatt lovbrudd\"][\"Predikert\"] / a[\"Gjentatt lovbrudd\"].sum()\n",
    "    print(f\"    Sensitivitet: {sens*100:.1f}%\")"
   ]
  },
  {
   "cell_type": "markdown",
   "id": "deadly-commission",
   "metadata": {},
   "source": [
    "### Alle"
   ]
  },
  {
   "cell_type": "code",
   "execution_count": 12,
   "id": "removed-fourth",
   "metadata": {},
   "outputs": [
    {
     "data": {
      "text/html": [
       "<table border=\"1\" class=\"dataframe\">\n",
       "  <thead>\n",
       "    <tr style=\"text-align: right;\">\n",
       "      <th></th>\n",
       "      <th>Ikke gjentatt</th>\n",
       "      <th>Gjentatt lovbrudd</th>\n",
       "    </tr>\n",
       "  </thead>\n",
       "  <tbody>\n",
       "    <tr>\n",
       "      <th>Ikke predikert</th>\n",
       "      <td>36.4%</td>\n",
       "      <td>19.0%</td>\n",
       "    </tr>\n",
       "    <tr>\n",
       "      <th>Predikert</th>\n",
       "      <td>15.1%</td>\n",
       "      <td>29.4%</td>\n",
       "    </tr>\n",
       "  </tbody>\n",
       "</table>"
      ],
      "text/plain": [
       "<IPython.core.display.HTML object>"
      ]
     },
     "metadata": {},
     "output_type": "display_data"
    },
    {
     "name": "stdout",
     "output_type": "stream",
     "text": [
      "Pos. pred. verdi: 66.0%\n",
      "    Sensitivitet: 60.8%\n"
     ]
    }
   ],
   "source": [
    "conditional_prob(df)"
   ]
  },
  {
   "cell_type": "markdown",
   "id": "analyzed-rabbit",
   "metadata": {},
   "source": [
    "### Hvite"
   ]
  },
  {
   "cell_type": "code",
   "execution_count": 13,
   "id": "applicable-style",
   "metadata": {},
   "outputs": [
    {
     "data": {
      "text/html": [
       "<table border=\"1\" class=\"dataframe\">\n",
       "  <thead>\n",
       "    <tr style=\"text-align: right;\">\n",
       "      <th></th>\n",
       "      <th>Ikke gjentatt</th>\n",
       "      <th>Gjentatt lovbrudd</th>\n",
       "    </tr>\n",
       "  </thead>\n",
       "  <tbody>\n",
       "    <tr>\n",
       "      <th>Ikke predikert</th>\n",
       "      <td>45.8%</td>\n",
       "      <td>21.1%</td>\n",
       "    </tr>\n",
       "    <tr>\n",
       "      <th>Predikert</th>\n",
       "      <td>12.6%</td>\n",
       "      <td>20.4%</td>\n",
       "    </tr>\n",
       "  </tbody>\n",
       "</table>"
      ],
      "text/plain": [
       "<IPython.core.display.HTML object>"
      ]
     },
     "metadata": {},
     "output_type": "display_data"
    },
    {
     "name": "stdout",
     "output_type": "stream",
     "text": [
      "Pos. pred. verdi: 61.8%\n",
      "    Sensitivitet: 49.2%\n"
     ]
    }
   ],
   "source": [
    "conditional_prob(df[df.white])"
   ]
  },
  {
   "cell_type": "markdown",
   "id": "russian-creativity",
   "metadata": {},
   "source": [
    "### Ikke-hvite"
   ]
  },
  {
   "cell_type": "code",
   "execution_count": 14,
   "id": "monthly-smile",
   "metadata": {},
   "outputs": [
    {
     "data": {
      "text/html": [
       "<table border=\"1\" class=\"dataframe\">\n",
       "  <thead>\n",
       "    <tr style=\"text-align: right;\">\n",
       "      <th></th>\n",
       "      <th>Ikke gjentatt</th>\n",
       "      <th>Gjentatt lovbrudd</th>\n",
       "    </tr>\n",
       "  </thead>\n",
       "  <tbody>\n",
       "    <tr>\n",
       "      <th>Ikke predikert</th>\n",
       "      <td>31.6%</td>\n",
       "      <td>17.9%</td>\n",
       "    </tr>\n",
       "    <tr>\n",
       "      <th>Predikert</th>\n",
       "      <td>16.4%</td>\n",
       "      <td>34.1%</td>\n",
       "    </tr>\n",
       "  </tbody>\n",
       "</table>"
      ],
      "text/plain": [
       "<IPython.core.display.HTML object>"
      ]
     },
     "metadata": {},
     "output_type": "display_data"
    },
    {
     "name": "stdout",
     "output_type": "stream",
     "text": [
      "Pos. pred. verdi: 67.5%\n",
      "    Sensitivitet: 65.5%\n"
     ]
    }
   ],
   "source": [
    "conditional_prob(df[~df.white])"
   ]
  },
  {
   "cell_type": "markdown",
   "id": "differential-merchandise",
   "metadata": {},
   "source": [
    "### Menn"
   ]
  },
  {
   "cell_type": "code",
   "execution_count": 15,
   "id": "solved-modification",
   "metadata": {},
   "outputs": [
    {
     "data": {
      "text/html": [
       "<table border=\"1\" class=\"dataframe\">\n",
       "  <thead>\n",
       "    <tr style=\"text-align: right;\">\n",
       "      <th></th>\n",
       "      <th>Ikke gjentatt</th>\n",
       "      <th>Gjentatt lovbrudd</th>\n",
       "    </tr>\n",
       "  </thead>\n",
       "  <tbody>\n",
       "    <tr>\n",
       "      <th>Ikke predikert</th>\n",
       "      <td>34.6%</td>\n",
       "      <td>19.9%</td>\n",
       "    </tr>\n",
       "    <tr>\n",
       "      <th>Predikert</th>\n",
       "      <td>14.3%</td>\n",
       "      <td>31.2%</td>\n",
       "    </tr>\n",
       "  </tbody>\n",
       "</table>"
      ],
      "text/plain": [
       "<IPython.core.display.HTML object>"
      ]
     },
     "metadata": {},
     "output_type": "display_data"
    },
    {
     "name": "stdout",
     "output_type": "stream",
     "text": [
      "Pos. pred. verdi: 68.6%\n",
      "    Sensitivitet: 61.1%\n"
     ]
    }
   ],
   "source": [
    "conditional_prob(df[df.sex == 'Male'])"
   ]
  },
  {
   "cell_type": "markdown",
   "id": "whole-concord",
   "metadata": {},
   "source": [
    "### Kvinner"
   ]
  },
  {
   "cell_type": "code",
   "execution_count": 16,
   "id": "suitable-algeria",
   "metadata": {},
   "outputs": [
    {
     "data": {
      "text/html": [
       "<table border=\"1\" class=\"dataframe\">\n",
       "  <thead>\n",
       "    <tr style=\"text-align: right;\">\n",
       "      <th></th>\n",
       "      <th>Ikke gjentatt</th>\n",
       "      <th>Gjentatt lovbrudd</th>\n",
       "    </tr>\n",
       "  </thead>\n",
       "  <tbody>\n",
       "    <tr>\n",
       "      <th>Ikke predikert</th>\n",
       "      <td>44.3%</td>\n",
       "      <td>15.2%</td>\n",
       "    </tr>\n",
       "    <tr>\n",
       "      <th>Predikert</th>\n",
       "      <td>18.7%</td>\n",
       "      <td>21.8%</td>\n",
       "    </tr>\n",
       "  </tbody>\n",
       "</table>"
      ],
      "text/plain": [
       "<IPython.core.display.HTML object>"
      ]
     },
     "metadata": {},
     "output_type": "display_data"
    },
    {
     "name": "stdout",
     "output_type": "stream",
     "text": [
      "Pos. pred. verdi: 53.8%\n",
      "    Sensitivitet: 58.9%\n"
     ]
    }
   ],
   "source": [
    "conditional_prob(df[df.sex == 'Female'])"
   ]
  },
  {
   "cell_type": "markdown",
   "id": "practical-rebel",
   "metadata": {},
   "source": [
    "I firefeltstabellen er de sanne negative finnes øverst til venstre, falske negative øverst til høyre, falske positive nederst til venstre og de sanne positive nederst til høyre. \n",
    "Fordelingen av disse når man sammenlikner hvite og ikke-hvite kan indikere at algoritmen er diskriminerende overfor ikke-hvite. Vi ser at andelen falske positive er større for ikke-hvite enn hvite, samtidig som andelen falske negative er større blant hvite. Denne forskjellen reflekteres i sensitiviteten, som er markant lavere hos hvite enn ikke-hvite. Dette tyder på at algoritmen er mer aggressiv når det kommer til å predikere tilbakefall hos ikke-hvite enn hvite. Den lave sensitiviteten hos hvite indikerer kan indikere at deres rettssikkerhet i større grad blir ivaretatt enn hos ikke-hvite. \n",
    "\n",
    "Det er også verdt å merke at kvinner har betraktelig lavere positiv prediktiv verdi (53,8%) enn alle (66%). Algoritmen tar oftere feil for kvinner enn for menn. \n",
    "\n",
    "Til tross for at disse funnene støtter opp om at COMPAS er diskriminerende, kan ikke konkludere før vi har isolert faktorene. "
   ]
  },
  {
   "cell_type": "markdown",
   "id": "typical-england",
   "metadata": {},
   "source": [
    "# Isolere en variabel"
   ]
  },
  {
   "cell_type": "markdown",
   "id": "eastern-alarm",
   "metadata": {},
   "source": [
    "Forskjeller i andeler og sannsynligheter mellom hvite og ikke-hvite er ikke et bevis på rasisme eller diskriminering. Dersom ikke-hvite i større grad enn hvite har kriminelle rulleblad, og algoritmen gir personer med kriminelt rulleblad større sannsynlighet for å begå nye lovbrudd, vil ikke-hvite komme ut dårligere enn hvite i sammenlikninger som de over. For å bøte på dette, kan vi isolere etnisitet som variabel, og se på hvilken innvirkning etnisitet i seg selv har på prediksjonen fra algoritmen. \n",
    "\n",
    "For å gjøre dette trener vi en logistisk modell som skal etterligne COMPAS sine prediksjoner. Den trente modellen vil ha forskjellige vekter for hver kolonne vi lar den trene på. Ved hjelp av vekten til en kolonne kan vi beregne hvor viktig den kolonnen er alene i en prediksjon. Det vil si i hvor stor grad kolonnen bestemmer resultatet, selv om alle andre parametere er like."
   ]
  },
  {
   "cell_type": "code",
   "execution_count": 24,
   "id": "spectacular-serum",
   "metadata": {},
   "outputs": [
    {
     "data": {
      "text/plain": [
       "LogisticRegression(max_iter=1000)"
      ]
     },
     "execution_count": 24,
     "metadata": {},
     "output_type": "execute_result"
    }
   ],
   "source": [
    "from sklearn.linear_model import LogisticRegression\n",
    "import numpy as np\n",
    "\n",
    "categorical_cols = [\"age_cat\", \"race\", \"sex\", \"c_charge_degree\"]\n",
    "X = data[[\"age_cat\", \"race\", \"sex\", \"priors_count\", \"c_charge_degree\", \"two_year_recid\"]]\n",
    "X = pd.get_dummies(X, columns=categorical_cols, prefix=categorical_cols, prefix_sep='_')\n",
    "X = X.drop([\"age_cat_25 - 45\", \"race_Caucasian\", \"sex_Male\", \"c_charge_degree_F\"], axis=1)\n",
    "\n",
    "Y = data[\"score_text\"] != \"Low\"\n",
    "\n",
    "model = LogisticRegression(max_iter=1000)\n",
    "model.fit(X, Y)"
   ]
  },
  {
   "cell_type": "markdown",
   "id": "atomic-webster",
   "metadata": {},
   "source": [
    "Med alle vektene og bias, kalkulerer vi bias mot \"African-American\" som gruppe, ved å sammenlikne en idealisert person som ikke har noen egenskaper, mot en person som kun har egenskapen å være \"African-American\". \"African-American\" inngår i gruppen ikke-hvit som vi har brukt så langt, men er mer spesifikk."
   ]
  },
  {
   "cell_type": "code",
   "execution_count": 18,
   "id": "removable-geneva",
   "metadata": {},
   "outputs": [
    {
     "data": {
      "text/plain": [
       "1.453084453051661"
      ]
     },
     "execution_count": 18,
     "metadata": {},
     "output_type": "execute_result"
    }
   ],
   "source": [
    "black_coef = model.coef_[0, list(X.columns).index('race_African-American')]\n",
    "intercept = model.intercept_[0]\n",
    "\n",
    "control = 1/(1+np.exp(-intercept))\n",
    "racialBias = np.exp(black_coef) / (1 + control * (np.exp(black_coef) - 1))\n",
    "racialBias"
   ]
  },
  {
   "cell_type": "markdown",
   "id": "fixed-blast",
   "metadata": {},
   "source": [
    "Tallet forteller oss at det å være \"African-American\" gir en 45% større sjanse for å bli predikert å begå nye lovbrudd, uavhengig av kriminelt rulleblad og andre kolonner i datasettet vårt. Dette gir en sterk indikasjon på at algoritmen er diskriminerende.\n",
    "\n",
    "Vi ser også på \"partial dependence\", som forteller forventningsverdien av prediksjonen når kun en variabel er låst."
   ]
  },
  {
   "cell_type": "code",
   "execution_count": 30,
   "id": "endless-instrumentation",
   "metadata": {},
   "outputs": [
    {
     "data": {
      "image/png": "[encoded data removed]",
      "text/plain": [
       "<Figure size 864x432 with 2 Axes>"
      ]
     },
     "metadata": {
      "needs_background": "light"
     },
     "output_type": "display_data"
    },
    {
     "data": {
      "image/png": "[encoded data removed]",
      "text/plain": [
       "<Figure size 864x432 with 3 Axes>"
      ]
     },
     "metadata": {
      "needs_background": "light"
     },
     "output_type": "display_data"
    }
   ],
   "source": [
    "from sklearn.inspection import plot_partial_dependence\n",
    "import matplotlib.pyplot as plt\n",
    "\n",
    "plot_partial_dependence(model, X, [\"priors_count\"])\n",
    "plt.gcf().set_size_inches(12, 6)\n",
    "plot_partial_dependence(model, X, [\"race_African-American\", \"sex_Female\"])\n",
    "plt.gcf().set_size_inches(12, 6)"
   ]
  },
  {
   "cell_type": "markdown",
   "id": "included-damages",
   "metadata": {},
   "source": [
    "Vi ser at `priors_count` har stor partial dependence. En person med 10 tidligere lovbrudd har nesten 80% sannsynlighet for å bli predikert å begå nye lovbrudd. \n",
    "Det å ikke være \"African-American\" bærer med seg 40% sannsynlighet for å bli predikert å begå nye lovbrudd, mens det å være \"African-American\" gir over 48%. En tilsvarende effekt ser vi blant kvinner og menn, hvor menn har 44% sannsynlighet og kvinner har 47% sannsynlighet for å bli predikert å begå nye lovbrudd."
   ]
  },
  {
   "cell_type": "markdown",
   "id": "flying-update",
   "metadata": {},
   "source": [
    "## Mulige feilkilder\n",
    "\n",
    "Strukturell rasisme og diskrimering i rettsystemet gjør det vanskelig å skille diskriminering i samfunnet, fra diskriminering i COMPAS.\n",
    "\n",
    "Selv om vi har fått gode beviser på at COMPAS er diskriminerende, vil vi nevne at det kan finnes bakenforliggende forhold (for eksempel sosioøkonomisk status, osv) som ikke er inkludert i datasettet, men plukkes opp i etnisitet. Disse kan forklare større andeler positive prediksjoner for ikke-hvite i COMPAS, med skjevheter i samfunnet. I mangelen på disse bakenforliggende forholdene kan det likevel argumenteres for at COMPAS da ikke burde hatt tilgang på informasjon om etnisitet i det hele tatt.\n",
    "Andre feilkilder er et smalt datasett (kun ett politidistrikt), feilregistreringer og andre feil i datagrunnlaget. Vår logistiske modell gir dessuten ikke et perfekt bilde av partial dependence i den faktiske COMPAS-modellen.\n"
   ]
  },
  {
   "cell_type": "markdown",
   "id": "finished-thailand",
   "metadata": {},
   "source": [
    "## Konklusjon\n",
    "\n",
    "Ved å se på andelene som blir predikert å begå nye lovbrudd og faktisk begår nye lovbrudd i forskjellige grupper, samt fordelingen av forskjellige risiko-scorer og betingede sannsynligheterfikk vi tidlig inntrykk av at COMPAS-algoritmen diskriminerer mot ikke-hvite. Vi trente en logistisk modell for å etterlikne COMPAS, og ser at denne får en skjevhet på 45% mot ikke-hvite, og har tydelig \"partial dependence\" på det å være \"African-American\". Dette bekrefter intrykket og gir gode beviser for at COMPAS virker diskriminerende mot ikke-hvite."
   ]
  },
  {
   "cell_type": "markdown",
   "id": "bridal-ethiopia",
   "metadata": {},
   "source": [
    "## Kilder\n",
    " - Angwin, Julia; Larson, Jeff; Mattu, Surya and Kirchner, Lauren. ProPublica, May 23, 2016: \"Machine Bias\". https://www.propublica.org/article/machine-bias-risk-assessments-in-criminal-sentencing\n",
    " -  Larson, Jeff; Mattu, Surya; Kirchner, Lauren and Angwin, Julia. ProPublica, May 23, 2016: \"Machine Bias\". https://www.propublica.org/article/how-we-analyzed-the-compas-recidivism-algorithm"
   ]
  }
 ],
 "metadata": {
  "kernelspec": {
   "display_name": "Python 3",
   "language": "python",
   "name": "python3"
  },
  "language_info": {
   "codemirror_mode": {
    "name": "ipython",
    "version": 3
   },
   "file_extension": ".py",
   "mimetype": "text/x-python",
   "name": "python",
   "nbconvert_exporter": "python",
   "pygments_lexer": "ipython3",
   "version": "3.9.2"
  }
 },
 "nbformat": 4,
 "nbformat_minor": 5
}
