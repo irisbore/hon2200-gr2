{
 "cells": [
  {
   "cell_type": "markdown",
   "metadata": {},
   "source": [
    "## Gjennbruk fra oppgave a"
   ]
  },
  {
   "cell_type": "code",
   "execution_count": 1,
   "metadata": {},
   "outputs": [],
   "source": [
    "import pandas as pd\n",
    "import numpy as np"
   ]
  },
  {
   "cell_type": "code",
   "execution_count": 2,
   "metadata": {},
   "outputs": [],
   "source": [
    "df_full = pd.read_csv(\"../data/compas-scores-two-years.csv\")"
   ]
  },
  {
   "cell_type": "code",
   "execution_count": 3,
   "metadata": {},
   "outputs": [
    {
     "data": {
      "text/html": [
       "<div>\n",
       "<style scoped>\n",
       "    .dataframe tbody tr th:only-of-type {\n",
       "        vertical-align: middle;\n",
       "    }\n",
       "\n",
       "    .dataframe tbody tr th {\n",
       "        vertical-align: top;\n",
       "    }\n",
       "\n",
       "    .dataframe thead th {\n",
       "        text-align: right;\n",
       "    }\n",
       "</style>\n",
       "<table border=\"1\" class=\"dataframe\">\n",
       "  <thead>\n",
       "    <tr style=\"text-align: right;\">\n",
       "      <th></th>\n",
       "      <th>sex</th>\n",
       "      <th>white</th>\n",
       "      <th>predicted</th>\n",
       "      <th>actual</th>\n",
       "    </tr>\n",
       "  </thead>\n",
       "  <tbody>\n",
       "    <tr>\n",
       "      <th>0</th>\n",
       "      <td>Male</td>\n",
       "      <td>False</td>\n",
       "      <td>False</td>\n",
       "      <td>False</td>\n",
       "    </tr>\n",
       "    <tr>\n",
       "      <th>1</th>\n",
       "      <td>Male</td>\n",
       "      <td>False</td>\n",
       "      <td>False</td>\n",
       "      <td>True</td>\n",
       "    </tr>\n",
       "    <tr>\n",
       "      <th>2</th>\n",
       "      <td>Male</td>\n",
       "      <td>False</td>\n",
       "      <td>False</td>\n",
       "      <td>True</td>\n",
       "    </tr>\n",
       "    <tr>\n",
       "      <th>3</th>\n",
       "      <td>Male</td>\n",
       "      <td>False</td>\n",
       "      <td>True</td>\n",
       "      <td>False</td>\n",
       "    </tr>\n",
       "    <tr>\n",
       "      <th>4</th>\n",
       "      <td>Male</td>\n",
       "      <td>False</td>\n",
       "      <td>False</td>\n",
       "      <td>False</td>\n",
       "    </tr>\n",
       "    <tr>\n",
       "      <th>...</th>\n",
       "      <td>...</td>\n",
       "      <td>...</td>\n",
       "      <td>...</td>\n",
       "      <td>...</td>\n",
       "    </tr>\n",
       "    <tr>\n",
       "      <th>7209</th>\n",
       "      <td>Male</td>\n",
       "      <td>False</td>\n",
       "      <td>True</td>\n",
       "      <td>False</td>\n",
       "    </tr>\n",
       "    <tr>\n",
       "      <th>7210</th>\n",
       "      <td>Male</td>\n",
       "      <td>False</td>\n",
       "      <td>False</td>\n",
       "      <td>False</td>\n",
       "    </tr>\n",
       "    <tr>\n",
       "      <th>7211</th>\n",
       "      <td>Male</td>\n",
       "      <td>False</td>\n",
       "      <td>False</td>\n",
       "      <td>False</td>\n",
       "    </tr>\n",
       "    <tr>\n",
       "      <th>7212</th>\n",
       "      <td>Female</td>\n",
       "      <td>False</td>\n",
       "      <td>False</td>\n",
       "      <td>False</td>\n",
       "    </tr>\n",
       "    <tr>\n",
       "      <th>7213</th>\n",
       "      <td>Female</td>\n",
       "      <td>False</td>\n",
       "      <td>False</td>\n",
       "      <td>True</td>\n",
       "    </tr>\n",
       "  </tbody>\n",
       "</table>\n",
       "<p>7214 rows × 4 columns</p>\n",
       "</div>"
      ],
      "text/plain": [
       "         sex  white  predicted  actual\n",
       "0       Male  False      False   False\n",
       "1       Male  False      False    True\n",
       "2       Male  False      False    True\n",
       "3       Male  False       True   False\n",
       "4       Male  False      False   False\n",
       "...      ...    ...        ...     ...\n",
       "7209    Male  False       True   False\n",
       "7210    Male  False      False   False\n",
       "7211    Male  False      False   False\n",
       "7212  Female  False      False   False\n",
       "7213  Female  False      False    True\n",
       "\n",
       "[7214 rows x 4 columns]"
      ]
     },
     "metadata": {},
     "output_type": "display_data"
    }
   ],
   "source": [
    "df = pd.DataFrame({ \n",
    "    \"sex\": df_full.sex,\n",
    "    \"white\": df_full.race == \"Caucasian\",\n",
    "    \"predicted\": df_full.score_text != \"Low\",\n",
    "    \"actual\": df_full.is_recid == 1,\n",
    "})\n",
    "display(df)"
   ]
  },
  {
   "cell_type": "code",
   "execution_count": 4,
   "metadata": {},
   "outputs": [],
   "source": [
    "def get_relative_frequency(group, variable):\n",
    "    group_size = len(df[group])\n",
    "    filterd_group_size = len(df[variable & group])\n",
    "    return filterd_group_size/group_size"
   ]
  },
  {
   "cell_type": "markdown",
   "metadata": {},
   "source": [
    "# Oppgave b"
   ]
  },
  {
   "cell_type": "code",
   "execution_count": 5,
   "metadata": {},
   "outputs": [
    {
     "name": "stdout",
     "output_type": "stream",
     "text": [
      "False\n"
     ]
    }
   ],
   "source": [
    "pred = df[\"predicted\"]\n",
    "act = df[\"actual\"]\n",
    "sex = df[\"sex\"]\n",
    "race = df[\"white\"]\n",
    "print(race[0])"
   ]
  },
  {
   "cell_type": "code",
   "execution_count": 6,
   "metadata": {},
   "outputs": [],
   "source": [
    "tP,tPm,tPw = 0,0,0\n",
    "fP,fPm,fPw = 0,0,0\n",
    "\n",
    "tN,tNm,tNw = 0,0,0\n",
    "fN,fNm,fNw = 0,0,0"
   ]
  },
  {
   "cell_type": "code",
   "execution_count": 7,
   "metadata": {},
   "outputs": [
    {
     "data": {
      "text/plain": [
       "'for i in range(7214):\\n    if pred[i] == True: \\n        if act[i] == True:\\n            tP += 1\\n        elif act[i] == False: \\n            fP += 1\\n    if pred[i] ==False:\\n        if act[i] == False:\\n            tN += 1\\n        elif act[i] == True:\\n            fN += 1\\n'"
      ]
     },
     "execution_count": 7,
     "metadata": {},
     "output_type": "execute_result"
    }
   ],
   "source": [
    "\"\"\"for i in range(7214):\n",
    "    if pred[i] == True: \n",
    "        if act[i] == True:\n",
    "            tP += 1\n",
    "        elif act[i] == False: \n",
    "            fP += 1\n",
    "    if pred[i] ==False:\n",
    "        if act[i] == False:\n",
    "            tN += 1\n",
    "        elif act[i] == True:\n",
    "            fN += 1\n",
    "\"\"\""
   ]
  },
  {
   "cell_type": "code",
   "execution_count": 8,
   "metadata": {},
   "outputs": [],
   "source": [
    "for i in range(7214):\n",
    "    if pred[i] == True: \n",
    "        \n",
    "        if act[i] == True:\n",
    "            tP += 1\n",
    "            if sex[i] == \"Male\":\n",
    "                tPm += 1\n",
    "            elif race[i] == True:\n",
    "                tPw += 1\n",
    "                \n",
    "        elif act[i] == False: \n",
    "            fP += 1\n",
    "            if sex[i] == \"Male\":\n",
    "                fPm += 1\n",
    "            elif race[i] == True:\n",
    "                fPw += 1\n",
    "    \n",
    "    if pred[i] ==False:\n",
    "        \n",
    "        if act[i] == False:\n",
    "            tN += 1\n",
    "            if sex[i] == \"Male\":\n",
    "                tNm += 1\n",
    "            elif race[i] == True:\n",
    "                tNw += 1\n",
    "                \n",
    "        elif act[i] == True:\n",
    "            fN += 1\n",
    "            if sex[i] == \"Male\":\n",
    "                fN += 1\n",
    "            elif race[i] == True:\n",
    "                fNw += 1"
   ]
  },
  {
   "cell_type": "code",
   "execution_count": 9,
   "metadata": {},
   "outputs": [
    {
     "data": {
      "text/plain": [
       "2140"
      ]
     },
     "metadata": {},
     "output_type": "display_data"
    },
    {
     "data": {
      "text/plain": [
       "1821"
      ]
     },
     "metadata": {},
     "output_type": "display_data"
    },
    {
     "data": {
      "text/plain": [
       "116"
      ]
     },
     "metadata": {},
     "output_type": "display_data"
    },
    {
     "data": {
      "text/plain": [
       "2566"
      ]
     },
     "metadata": {},
     "output_type": "display_data"
    },
    {
     "data": {
      "text/plain": [
       "1973"
      ]
     },
     "metadata": {},
     "output_type": "display_data"
    },
    {
     "data": {
      "text/plain": [
       "250"
      ]
     },
     "metadata": {},
     "output_type": "display_data"
    },
    {
     "name": "stdout",
     "output_type": "stream",
     "text": [
      "Sanne positive for hele befolkningen er 0.2966454116994732\n"
     ]
    }
   ],
   "source": [
    "display(tP,tPm,tPw,tN,tNm,tNw)\n",
    "print(f\"Sanne positive for hele befolkningen er {tP/7214}\")"
   ]
  },
  {
   "cell_type": "code",
   "execution_count": 10,
   "metadata": {},
   "outputs": [],
   "source": [
    "#Hvordan sjekker vi for alle? "
   ]
  },
  {
   "cell_type": "code",
   "execution_count": null,
   "metadata": {},
   "outputs": [],
   "source": []
  }
 ],
 "metadata": {
  "kernelspec": {
   "display_name": "Python 3",
   "language": "python",
   "name": "python3"
  },
  "language_info": {
   "codemirror_mode": {
    "name": "ipython",
    "version": 3
   },
   "file_extension": ".py",
   "mimetype": "text/x-python",
   "name": "python",
   "nbconvert_exporter": "python",
   "pygments_lexer": "ipython3",
   "version": "3.9.2"
  }
 },
 "nbformat": 4,
 "nbformat_minor": 4
}
